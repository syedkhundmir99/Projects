{
 "cells": [
  {
   "cell_type": "markdown",
   "id": "71500521",
   "metadata": {},
   "source": [
    "   #     Electrical Line Current & Voltage Fault Detection and Classification"
   ]
  },
  {
   "cell_type": "markdown",
   "id": "1f5d387e",
   "metadata": {},
   "source": [
    "<div>\n",
    "<img src=\"power system.png\" alt=\"Drawing\" style=\"width: 580px;float: left;\"/>\n",
    "<img src=\"Electrical.gif\" alt=\"Drawing\" style=\"width: 400px;float: right;height : 240px\"/>\n",
    "</div>"
   ]
  },
  {
   "cell_type": "code",
   "execution_count": 1,
   "id": "b7bf73a2",
   "metadata": {},
   "outputs": [],
   "source": [
    "#Import Dependencies\n",
    "import pandas as pd\n",
    "import numpy as np\n",
    "import matplotlib.pyplot as plt\n",
    "import seaborn as sns\n",
    "import warnings\n",
    "warnings.filterwarnings('ignore')"
   ]
  },
  {
   "cell_type": "code",
   "execution_count": 2,
   "id": "58b2743d",
   "metadata": {},
   "outputs": [
    {
     "data": {
      "text/html": [
       "<div>\n",
       "<style scoped>\n",
       "    .dataframe tbody tr th:only-of-type {\n",
       "        vertical-align: middle;\n",
       "    }\n",
       "\n",
       "    .dataframe tbody tr th {\n",
       "        vertical-align: top;\n",
       "    }\n",
       "\n",
       "    .dataframe thead th {\n",
       "        text-align: right;\n",
       "    }\n",
       "</style>\n",
       "<table border=\"1\" class=\"dataframe\">\n",
       "  <thead>\n",
       "    <tr style=\"text-align: right;\">\n",
       "      <th></th>\n",
       "      <th>G</th>\n",
       "      <th>C</th>\n",
       "      <th>B</th>\n",
       "      <th>A</th>\n",
       "      <th>Ia</th>\n",
       "      <th>Ib</th>\n",
       "      <th>Ic</th>\n",
       "      <th>Va</th>\n",
       "      <th>Vb</th>\n",
       "      <th>Vc</th>\n",
       "    </tr>\n",
       "  </thead>\n",
       "  <tbody>\n",
       "    <tr>\n",
       "      <th>0</th>\n",
       "      <td>1</td>\n",
       "      <td>0</td>\n",
       "      <td>0</td>\n",
       "      <td>1</td>\n",
       "      <td>-151.291812</td>\n",
       "      <td>-9.677452</td>\n",
       "      <td>85.800162</td>\n",
       "      <td>0.400750</td>\n",
       "      <td>-0.132935</td>\n",
       "      <td>-0.267815</td>\n",
       "    </tr>\n",
       "    <tr>\n",
       "      <th>1</th>\n",
       "      <td>1</td>\n",
       "      <td>0</td>\n",
       "      <td>0</td>\n",
       "      <td>1</td>\n",
       "      <td>-336.186183</td>\n",
       "      <td>-76.283262</td>\n",
       "      <td>18.328897</td>\n",
       "      <td>0.312732</td>\n",
       "      <td>-0.123633</td>\n",
       "      <td>-0.189099</td>\n",
       "    </tr>\n",
       "    <tr>\n",
       "      <th>2</th>\n",
       "      <td>1</td>\n",
       "      <td>0</td>\n",
       "      <td>0</td>\n",
       "      <td>1</td>\n",
       "      <td>-502.891583</td>\n",
       "      <td>-174.648023</td>\n",
       "      <td>-80.924663</td>\n",
       "      <td>0.265728</td>\n",
       "      <td>-0.114301</td>\n",
       "      <td>-0.151428</td>\n",
       "    </tr>\n",
       "    <tr>\n",
       "      <th>3</th>\n",
       "      <td>1</td>\n",
       "      <td>0</td>\n",
       "      <td>0</td>\n",
       "      <td>1</td>\n",
       "      <td>-593.941905</td>\n",
       "      <td>-217.703359</td>\n",
       "      <td>-124.891924</td>\n",
       "      <td>0.235511</td>\n",
       "      <td>-0.104940</td>\n",
       "      <td>-0.130570</td>\n",
       "    </tr>\n",
       "    <tr>\n",
       "      <th>4</th>\n",
       "      <td>1</td>\n",
       "      <td>0</td>\n",
       "      <td>0</td>\n",
       "      <td>1</td>\n",
       "      <td>-643.663617</td>\n",
       "      <td>-224.159427</td>\n",
       "      <td>-132.282815</td>\n",
       "      <td>0.209537</td>\n",
       "      <td>-0.095554</td>\n",
       "      <td>-0.113983</td>\n",
       "    </tr>\n",
       "  </tbody>\n",
       "</table>\n",
       "</div>"
      ],
      "text/plain": [
       "   G  C  B  A          Ia          Ib          Ic        Va        Vb  \\\n",
       "0  1  0  0  1 -151.291812   -9.677452   85.800162  0.400750 -0.132935   \n",
       "1  1  0  0  1 -336.186183  -76.283262   18.328897  0.312732 -0.123633   \n",
       "2  1  0  0  1 -502.891583 -174.648023  -80.924663  0.265728 -0.114301   \n",
       "3  1  0  0  1 -593.941905 -217.703359 -124.891924  0.235511 -0.104940   \n",
       "4  1  0  0  1 -643.663617 -224.159427 -132.282815  0.209537 -0.095554   \n",
       "\n",
       "         Vc  \n",
       "0 -0.267815  \n",
       "1 -0.189099  \n",
       "2 -0.151428  \n",
       "3 -0.130570  \n",
       "4 -0.113983  "
      ]
     },
     "execution_count": 2,
     "metadata": {},
     "output_type": "execute_result"
    }
   ],
   "source": [
    "#Load the dataset\n",
    "df = pd.read_csv('Electric Circuit Train.csv')\n",
    "df.head()"
   ]
  },
  {
   "cell_type": "code",
   "execution_count": 3,
   "id": "4bd320f3",
   "metadata": {},
   "outputs": [
    {
     "data": {
      "text/plain": [
       "(7861, 10)"
      ]
     },
     "execution_count": 3,
     "metadata": {},
     "output_type": "execute_result"
    }
   ],
   "source": [
    "#Check Number of Rows and Columns\n",
    "df.shape"
   ]
  },
  {
   "cell_type": "code",
   "execution_count": 4,
   "id": "062cb4d3",
   "metadata": {},
   "outputs": [
    {
     "data": {
      "text/plain": [
       "False"
      ]
     },
     "execution_count": 4,
     "metadata": {},
     "output_type": "execute_result"
    }
   ],
   "source": [
    "df.isna().sum().any()  #There is no Null values"
   ]
  },
  {
   "cell_type": "code",
   "execution_count": 5,
   "id": "86911c96",
   "metadata": {},
   "outputs": [
    {
     "data": {
      "text/plain": [
       "False"
      ]
     },
     "execution_count": 5,
     "metadata": {},
     "output_type": "execute_result"
    }
   ],
   "source": [
    "df.duplicated().any()  #There are no duplicates"
   ]
  },
  {
   "cell_type": "code",
   "execution_count": 6,
   "id": "59782793",
   "metadata": {},
   "outputs": [
    {
     "name": "stdout",
     "output_type": "stream",
     "text": [
      "<class 'pandas.core.frame.DataFrame'>\n",
      "RangeIndex: 7861 entries, 0 to 7860\n",
      "Data columns (total 10 columns):\n",
      " #   Column  Non-Null Count  Dtype  \n",
      "---  ------  --------------  -----  \n",
      " 0   G       7861 non-null   int64  \n",
      " 1   C       7861 non-null   int64  \n",
      " 2   B       7861 non-null   int64  \n",
      " 3   A       7861 non-null   int64  \n",
      " 4   Ia      7861 non-null   float64\n",
      " 5   Ib      7861 non-null   float64\n",
      " 6   Ic      7861 non-null   float64\n",
      " 7   Va      7861 non-null   float64\n",
      " 8   Vb      7861 non-null   float64\n",
      " 9   Vc      7861 non-null   float64\n",
      "dtypes: float64(6), int64(4)\n",
      "memory usage: 614.3 KB\n"
     ]
    }
   ],
   "source": [
    "df.info()  # Check the datatype,count of each feature"
   ]
  },
  {
   "cell_type": "code",
   "execution_count": 7,
   "id": "5c17c245",
   "metadata": {},
   "outputs": [
    {
     "data": {
      "text/html": [
       "<div>\n",
       "<style scoped>\n",
       "    .dataframe tbody tr th:only-of-type {\n",
       "        vertical-align: middle;\n",
       "    }\n",
       "\n",
       "    .dataframe tbody tr th {\n",
       "        vertical-align: top;\n",
       "    }\n",
       "\n",
       "    .dataframe thead th {\n",
       "        text-align: right;\n",
       "    }\n",
       "</style>\n",
       "<table border=\"1\" class=\"dataframe\">\n",
       "  <thead>\n",
       "    <tr style=\"text-align: right;\">\n",
       "      <th></th>\n",
       "      <th>G</th>\n",
       "      <th>C</th>\n",
       "      <th>B</th>\n",
       "      <th>A</th>\n",
       "      <th>Ia</th>\n",
       "      <th>Ib</th>\n",
       "      <th>Ic</th>\n",
       "      <th>Va</th>\n",
       "      <th>Vb</th>\n",
       "      <th>Vc</th>\n",
       "    </tr>\n",
       "  </thead>\n",
       "  <tbody>\n",
       "    <tr>\n",
       "      <th>count</th>\n",
       "      <td>7861.000000</td>\n",
       "      <td>7861.000000</td>\n",
       "      <td>7861.000000</td>\n",
       "      <td>7861.000000</td>\n",
       "      <td>7861.000000</td>\n",
       "      <td>7861.000000</td>\n",
       "      <td>7861.000000</td>\n",
       "      <td>7861.000000</td>\n",
       "      <td>7861.000000</td>\n",
       "      <td>7861.000000</td>\n",
       "    </tr>\n",
       "    <tr>\n",
       "      <th>mean</th>\n",
       "      <td>0.432006</td>\n",
       "      <td>0.411271</td>\n",
       "      <td>0.555527</td>\n",
       "      <td>0.571429</td>\n",
       "      <td>13.721194</td>\n",
       "      <td>-44.845268</td>\n",
       "      <td>34.392394</td>\n",
       "      <td>-0.007667</td>\n",
       "      <td>0.001152</td>\n",
       "      <td>0.006515</td>\n",
       "    </tr>\n",
       "    <tr>\n",
       "      <th>std</th>\n",
       "      <td>0.495387</td>\n",
       "      <td>0.492095</td>\n",
       "      <td>0.496939</td>\n",
       "      <td>0.494903</td>\n",
       "      <td>464.741671</td>\n",
       "      <td>439.269195</td>\n",
       "      <td>371.107412</td>\n",
       "      <td>0.289150</td>\n",
       "      <td>0.313437</td>\n",
       "      <td>0.307897</td>\n",
       "    </tr>\n",
       "    <tr>\n",
       "      <th>min</th>\n",
       "      <td>0.000000</td>\n",
       "      <td>0.000000</td>\n",
       "      <td>0.000000</td>\n",
       "      <td>0.000000</td>\n",
       "      <td>-883.542316</td>\n",
       "      <td>-900.526951</td>\n",
       "      <td>-883.357762</td>\n",
       "      <td>-0.620748</td>\n",
       "      <td>-0.608016</td>\n",
       "      <td>-0.612709</td>\n",
       "    </tr>\n",
       "    <tr>\n",
       "      <th>25%</th>\n",
       "      <td>0.000000</td>\n",
       "      <td>0.000000</td>\n",
       "      <td>0.000000</td>\n",
       "      <td>0.000000</td>\n",
       "      <td>-119.802518</td>\n",
       "      <td>-271.845947</td>\n",
       "      <td>-61.034219</td>\n",
       "      <td>-0.130287</td>\n",
       "      <td>-0.159507</td>\n",
       "      <td>-0.215977</td>\n",
       "    </tr>\n",
       "    <tr>\n",
       "      <th>50%</th>\n",
       "      <td>0.000000</td>\n",
       "      <td>0.000000</td>\n",
       "      <td>1.000000</td>\n",
       "      <td>1.000000</td>\n",
       "      <td>2.042805</td>\n",
       "      <td>5.513317</td>\n",
       "      <td>-4.326711</td>\n",
       "      <td>-0.005290</td>\n",
       "      <td>0.001620</td>\n",
       "      <td>0.009281</td>\n",
       "    </tr>\n",
       "    <tr>\n",
       "      <th>75%</th>\n",
       "      <td>1.000000</td>\n",
       "      <td>1.000000</td>\n",
       "      <td>1.000000</td>\n",
       "      <td>1.000000</td>\n",
       "      <td>227.246377</td>\n",
       "      <td>91.194282</td>\n",
       "      <td>49.115141</td>\n",
       "      <td>0.111627</td>\n",
       "      <td>0.153507</td>\n",
       "      <td>0.239973</td>\n",
       "    </tr>\n",
       "    <tr>\n",
       "      <th>max</th>\n",
       "      <td>1.000000</td>\n",
       "      <td>1.000000</td>\n",
       "      <td>1.000000</td>\n",
       "      <td>1.000000</td>\n",
       "      <td>885.738571</td>\n",
       "      <td>889.868884</td>\n",
       "      <td>901.274261</td>\n",
       "      <td>0.595342</td>\n",
       "      <td>0.627875</td>\n",
       "      <td>0.600179</td>\n",
       "    </tr>\n",
       "  </tbody>\n",
       "</table>\n",
       "</div>"
      ],
      "text/plain": [
       "                 G            C            B            A           Ia  \\\n",
       "count  7861.000000  7861.000000  7861.000000  7861.000000  7861.000000   \n",
       "mean      0.432006     0.411271     0.555527     0.571429    13.721194   \n",
       "std       0.495387     0.492095     0.496939     0.494903   464.741671   \n",
       "min       0.000000     0.000000     0.000000     0.000000  -883.542316   \n",
       "25%       0.000000     0.000000     0.000000     0.000000  -119.802518   \n",
       "50%       0.000000     0.000000     1.000000     1.000000     2.042805   \n",
       "75%       1.000000     1.000000     1.000000     1.000000   227.246377   \n",
       "max       1.000000     1.000000     1.000000     1.000000   885.738571   \n",
       "\n",
       "                Ib           Ic           Va           Vb           Vc  \n",
       "count  7861.000000  7861.000000  7861.000000  7861.000000  7861.000000  \n",
       "mean    -44.845268    34.392394    -0.007667     0.001152     0.006515  \n",
       "std     439.269195   371.107412     0.289150     0.313437     0.307897  \n",
       "min    -900.526951  -883.357762    -0.620748    -0.608016    -0.612709  \n",
       "25%    -271.845947   -61.034219    -0.130287    -0.159507    -0.215977  \n",
       "50%       5.513317    -4.326711    -0.005290     0.001620     0.009281  \n",
       "75%      91.194282    49.115141     0.111627     0.153507     0.239973  \n",
       "max     889.868884   901.274261     0.595342     0.627875     0.600179  "
      ]
     },
     "execution_count": 7,
     "metadata": {},
     "output_type": "execute_result"
    }
   ],
   "source": [
    "df.describe()  #Basic statistics on the features"
   ]
  },
  {
   "cell_type": "code",
   "execution_count": 8,
   "id": "e5b6d277",
   "metadata": {},
   "outputs": [
    {
     "data": {
      "text/plain": [
       "Index(['G', 'C', 'B', 'A', 'Ia', 'Ib', 'Ic', 'Va', 'Vb', 'Vc'], dtype='object')"
      ]
     },
     "execution_count": 8,
     "metadata": {},
     "output_type": "execute_result"
    }
   ],
   "source": [
    "df.columns"
   ]
  },
  {
   "cell_type": "code",
   "execution_count": 9,
   "id": "047a805e",
   "metadata": {},
   "outputs": [
    {
     "data": {
      "text/plain": [
       "<AxesSubplot:xlabel='Ia', ylabel='Va'>"
      ]
     },
     "execution_count": 9,
     "metadata": {},
     "output_type": "execute_result"
    },
    {
     "data": {
      "image/png": "[encoded data removed]",
      "text/plain": [
       "<Figure size 576x216 with 1 Axes>"
      ]
     },
     "metadata": {
      "needs_background": "light"
     },
     "output_type": "display_data"
    }
   ],
   "source": [
    "plt.figure(figsize = (8,3))\n",
    "sns.scatterplot(x = df['Ia'],y = df['Va'])"
   ]
  },
  {
   "cell_type": "code",
   "execution_count": 10,
   "id": "6771a944",
   "metadata": {},
   "outputs": [
    {
     "data": {
      "text/plain": [
       "<AxesSubplot:xlabel='Ib', ylabel='Va'>"
      ]
     },
     "execution_count": 10,
     "metadata": {},
     "output_type": "execute_result"
    },
    {
     "data": {
      "image/png": "[encoded data removed]",
      "text/plain": [
       "<Figure size 576x216 with 1 Axes>"
      ]
     },
     "metadata": {
      "needs_background": "light"
     },
     "output_type": "display_data"
    }
   ],
   "source": [
    "plt.figure(figsize = (8,3))\n",
    "sns.scatterplot(x = df['Ib'],y = df['Va'])"
   ]
  },
  {
   "cell_type": "code",
   "execution_count": 11,
   "id": "d83ed974",
   "metadata": {},
   "outputs": [
    {
     "data": {
      "text/plain": [
       "<AxesSubplot:xlabel='Ia', ylabel='Vc'>"
      ]
     },
     "execution_count": 11,
     "metadata": {},
     "output_type": "execute_result"
    },
    {
     "data": {
      "image/png": "[encoded data removed]",
      "text/plain": [
       "<Figure size 576x216 with 1 Axes>"
      ]
     },
     "metadata": {
      "needs_background": "light"
     },
     "output_type": "display_data"
    }
   ],
   "source": [
    "plt.figure(figsize = (8,3))\n",
    "sns.scatterplot(x = df['Ia'],y = df['Vc'])"
   ]
  },
  {
   "cell_type": "code",
   "execution_count": 12,
   "id": "58c5c5e3",
   "metadata": {},
   "outputs": [
    {
     "data": {
      "text/plain": [
       "<AxesSubplot:xlabel='Ic', ylabel='Va'>"
      ]
     },
     "execution_count": 12,
     "metadata": {},
     "output_type": "execute_result"
    },
    {
     "data": {
      "image/png": "[encoded data removed]",
      "text/plain": [
       "<Figure size 576x216 with 1 Axes>"
      ]
     },
     "metadata": {
      "needs_background": "light"
     },
     "output_type": "display_data"
    }
   ],
   "source": [
    "plt.figure(figsize = (8,3))\n",
    "sns.scatterplot(x = df['Ic'],y = df['Va'])"
   ]
  },
  {
   "cell_type": "code",
   "execution_count": 13,
   "id": "a3ca4992",
   "metadata": {},
   "outputs": [
    {
     "data": {
      "text/plain": [
       "<AxesSubplot:xlabel='Ib', ylabel='Vb'>"
      ]
     },
     "execution_count": 13,
     "metadata": {},
     "output_type": "execute_result"
    },
    {
     "data": {
      "image/png": "[encoded data removed]",
      "text/plain": [
       "<Figure size 576x216 with 1 Axes>"
      ]
     },
     "metadata": {
      "needs_background": "light"
     },
     "output_type": "display_data"
    }
   ],
   "source": [
    "plt.figure(figsize = (8,3))\n",
    "sns.scatterplot(x = df['Ib'],y = df['Vb'])"
   ]
  },
  {
   "cell_type": "code",
   "execution_count": 14,
   "id": "1d91945f",
   "metadata": {},
   "outputs": [
    {
     "data": {
      "text/plain": [
       "<AxesSubplot:xlabel='Ic', ylabel='Vc'>"
      ]
     },
     "execution_count": 14,
     "metadata": {},
     "output_type": "execute_result"
    },
    {
     "data": {
      "image/png": "[encoded data removed]",
      "text/plain": [
       "<Figure size 576x216 with 1 Axes>"
      ]
     },
     "metadata": {
      "needs_background": "light"
     },
     "output_type": "display_data"
    }
   ],
   "source": [
    "plt.figure(figsize = (8,3))\n",
    "sns.scatterplot(x = df['Ic'],y = df['Vc'])"
   ]
  },
  {
   "cell_type": "markdown",
   "id": "8e5bc238",
   "metadata": {},
   "source": [
    "FINDINGS:\n",
    "       \n",
    "       1. We have found there is no missing values neither duplicates\n",
    "       2. The above visuals depicts that our data is non linear, forming some spherical like structure\n",
    "       3. There are 7861 records and 10 features\n",
    "       4. There are 4 target features and 6 Independent features\n",
    "\n",
    "Now in further analysis we will check for Outliers and take neccessary steps to remove them\n",
    "       "
   ]
  },
  {
   "cell_type": "code",
   "execution_count": 15,
   "id": "10fa8876",
   "metadata": {},
   "outputs": [
    {
     "data": {
      "image/png": "[encoded data removed]",
      "text/plain": [
       "<Figure size 576x432 with 2 Axes>"
      ]
     },
     "metadata": {
      "needs_background": "light"
     },
     "output_type": "display_data"
    }
   ],
   "source": [
    "plt.figure(figsize = (8,6))\n",
    "plt.subplot(2,2,1) # 2-rows, 2-columns and 1st subplot\n",
    "df['Ia'].hist(bins = 50)\n",
    "plt.subplot(2,2,2) # 2-rows, 2-columns and 2nd subplot\n",
    "df.boxplot('Ia')\n",
    "plt.tight_layout() # prevent the overlapping of figures"
   ]
  },
  {
   "cell_type": "code",
   "execution_count": 16,
   "id": "091c9ef3",
   "metadata": {},
   "outputs": [
    {
     "data": {
      "image/png": "[encoded data removed]",
      "text/plain": [
       "<Figure size 576x432 with 2 Axes>"
      ]
     },
     "metadata": {
      "needs_background": "light"
     },
     "output_type": "display_data"
    }
   ],
   "source": [
    "plt.figure(figsize = (8,6))\n",
    "plt.subplot(2,2,1) # 2-rows, 2-columns and 1st subplot\n",
    "df['Ib'].hist(bins = 50)\n",
    "plt.subplot(2,2,2) # 2-rows, 2-columns and 2nd subplot\n",
    "df.boxplot('Ib')\n",
    "plt.tight_layout() # prevent the overlapping of figures"
   ]
  },
  {
   "cell_type": "code",
   "execution_count": 17,
   "id": "d480d09a",
   "metadata": {},
   "outputs": [
    {
     "data": {
      "image/png": "[encoded data removed]",
      "text/plain": [
       "<Figure size 576x432 with 2 Axes>"
      ]
     },
     "metadata": {
      "needs_background": "light"
     },
     "output_type": "display_data"
    }
   ],
   "source": [
    "plt.figure(figsize = (8,6))\n",
    "plt.subplot(2,2,1) # 2-rows, 2-columns and 1st subplot\n",
    "df['Ic'].hist(bins = 50)\n",
    "plt.subplot(2,2,2) # 2-rows, 2-columns and 2nd subplot\n",
    "df.boxplot('Ic')\n",
    "plt.tight_layout() # prevent the overlapping of figures"
   ]
  },
  {
   "cell_type": "code",
   "execution_count": 18,
   "id": "6c866050",
   "metadata": {},
   "outputs": [
    {
     "data": {
      "text/plain": [
       "count    7861.000000\n",
       "mean       34.392394\n",
       "std       371.107412\n",
       "min      -883.357762\n",
       "25%       -61.034219\n",
       "50%        -4.326711\n",
       "75%        49.115141\n",
       "max       901.274261\n",
       "Name: Ic, dtype: float64"
      ]
     },
     "execution_count": 18,
     "metadata": {},
     "output_type": "execute_result"
    }
   ],
   "source": [
    "df['Ic'].describe() #The range of this feature is very high so we have apply scaling"
   ]
  },
  {
   "cell_type": "code",
   "execution_count": 19,
   "id": "3569c4b5",
   "metadata": {},
   "outputs": [
    {
     "data": {
      "image/png": "[encoded data removed]",
      "text/plain": [
       "<Figure size 576x432 with 2 Axes>"
      ]
     },
     "metadata": {
      "needs_background": "light"
     },
     "output_type": "display_data"
    }
   ],
   "source": [
    "plt.figure(figsize = (8,6))\n",
    "plt.subplot(2,2,1) # 2-rows, 2-columns and 1st subplot\n",
    "df['Va'].hist(bins = 50)\n",
    "plt.subplot(2,2,2) # 2-rows, 2-columns and 2nd subplot\n",
    "df.boxplot('Va')\n",
    "plt.tight_layout() # prevent the overlapping of figures"
   ]
  },
  {
   "cell_type": "code",
   "execution_count": 20,
   "id": "1834d6eb",
   "metadata": {},
   "outputs": [
    {
     "data": {
      "image/png": "[encoded data removed]",
      "text/plain": [
       "<Figure size 576x432 with 2 Axes>"
      ]
     },
     "metadata": {
      "needs_background": "light"
     },
     "output_type": "display_data"
    }
   ],
   "source": [
    "plt.figure(figsize = (8,6))\n",
    "plt.subplot(2,2,1) # 2-rows, 2-columns and 1st subplot\n",
    "df['Vb'].hist(bins = 50)\n",
    "plt.subplot(2,2,2) # 2-rows, 2-columns and 2nd subplot\n",
    "df.boxplot('Vb')\n",
    "plt.tight_layout() # prevent the overlapping of figures"
   ]
  },
  {
   "cell_type": "code",
   "execution_count": 21,
   "id": "103db55d",
   "metadata": {},
   "outputs": [
    {
     "data": {
      "image/png": "[encoded data removed]",
      "text/plain": [
       "<Figure size 576x432 with 2 Axes>"
      ]
     },
     "metadata": {
      "needs_background": "light"
     },
     "output_type": "display_data"
    }
   ],
   "source": [
    "plt.figure(figsize = (8,6))\n",
    "plt.subplot(2,2,1) # 2-rows, 2-columns and 1st subplot\n",
    "df['Vc'].hist(bins = 50)\n",
    "plt.subplot(2,2,2) # 2-rows, 2-columns and 2nd subplot\n",
    "df.boxplot('Vc')\n",
    "plt.tight_layout() # prevent the overlapping of figures"
   ]
  },
  {
   "cell_type": "markdown",
   "id": "51330dd5",
   "metadata": {},
   "source": [
    "Note:\n",
    "    \n",
    "    We have noticed Current Paramters that is Ia, Ib, Ic are having wide range of values therefore they are causing outliers issue. We cannot just remove the records because the data is very less.One solution for this is applying feature scaling on those current features."
   ]
  },
  {
   "cell_type": "code",
   "execution_count": 22,
   "id": "dfee0984",
   "metadata": {},
   "outputs": [
    {
     "data": {
      "image/png": "[encoded data removed]",
      "text/plain": [
       "<Figure size 720x432 with 4 Axes>"
      ]
     },
     "metadata": {
      "needs_background": "light"
     },
     "output_type": "display_data"
    }
   ],
   "source": [
    "#Check for imbalanced dataset\n",
    "plt.figure(figsize = (10,6))\n",
    "plt.subplot(2,2,1)\n",
    "plt.title('G')\n",
    "df['G'].value_counts().plot(kind = 'bar')\n",
    "plt.subplot(2,2,2)\n",
    "plt.title('C')\n",
    "df['C'].value_counts().plot(kind = 'bar')\n",
    "plt.subplot(2,2,3)\n",
    "plt.title('B')\n",
    "df['B'].value_counts().plot(kind = 'bar')\n",
    "plt.subplot(2,2,4)\n",
    "plt.title('A')\n",
    "df['A'].value_counts().plot(kind = 'bar')\n",
    "plt.tight_layout()\n",
    "\n",
    "#Note: The dataset is balanced"
   ]
  },
  {
   "cell_type": "code",
   "execution_count": 23,
   "id": "cf6b6faf",
   "metadata": {},
   "outputs": [
    {
     "data": {
      "text/plain": [
       "Index(['G', 'C', 'B', 'A', 'Ia', 'Ib', 'Ic', 'Va', 'Vb', 'Vc'], dtype='object')"
      ]
     },
     "execution_count": 23,
     "metadata": {},
     "output_type": "execute_result"
    }
   ],
   "source": [
    "df.columns"
   ]
  },
  {
   "cell_type": "markdown",
   "id": "2c67e71b",
   "metadata": {},
   "source": [
    "## Feature Scaling"
   ]
  },
  {
   "cell_type": "code",
   "execution_count": 24,
   "id": "b08e1146",
   "metadata": {},
   "outputs": [],
   "source": [
    "x = df.drop(columns = ['G','C','B','A'])\n",
    "y = df[['G','C','B','A']]"
   ]
  },
  {
   "cell_type": "code",
   "execution_count": 25,
   "id": "c9dc2b71",
   "metadata": {},
   "outputs": [],
   "source": [
    "from sklearn.model_selection import train_test_split\n",
    "x_train,x_test,y_train,y_test = train_test_split(x,y,test_size = 0.2,random_state= 10)"
   ]
  },
  {
   "cell_type": "code",
   "execution_count": 26,
   "id": "bedab653",
   "metadata": {},
   "outputs": [
    {
     "data": {
      "text/plain": [
       "(6288, 6)"
      ]
     },
     "execution_count": 26,
     "metadata": {},
     "output_type": "execute_result"
    }
   ],
   "source": [
    "x_train.shape"
   ]
  },
  {
   "cell_type": "code",
   "execution_count": 27,
   "id": "6bc4f34e",
   "metadata": {},
   "outputs": [
    {
     "data": {
      "text/html": [
       "<div>\n",
       "<style scoped>\n",
       "    .dataframe tbody tr th:only-of-type {\n",
       "        vertical-align: middle;\n",
       "    }\n",
       "\n",
       "    .dataframe tbody tr th {\n",
       "        vertical-align: top;\n",
       "    }\n",
       "\n",
       "    .dataframe thead th {\n",
       "        text-align: right;\n",
       "    }\n",
       "</style>\n",
       "<table border=\"1\" class=\"dataframe\">\n",
       "  <thead>\n",
       "    <tr style=\"text-align: right;\">\n",
       "      <th></th>\n",
       "      <th>Ia</th>\n",
       "      <th>Ib</th>\n",
       "      <th>Ic</th>\n",
       "    </tr>\n",
       "  </thead>\n",
       "  <tbody>\n",
       "    <tr>\n",
       "      <th>5170</th>\n",
       "      <td>-788.655728</td>\n",
       "      <td>739.091922</td>\n",
       "      <td>49.561543</td>\n",
       "    </tr>\n",
       "    <tr>\n",
       "      <th>6212</th>\n",
       "      <td>-69.527452</td>\n",
       "      <td>81.777873</td>\n",
       "      <td>-15.610053</td>\n",
       "    </tr>\n",
       "    <tr>\n",
       "      <th>5593</th>\n",
       "      <td>48.586030</td>\n",
       "      <td>-21.064266</td>\n",
       "      <td>-27.025873</td>\n",
       "    </tr>\n",
       "    <tr>\n",
       "      <th>7752</th>\n",
       "      <td>-28.185556</td>\n",
       "      <td>92.657229</td>\n",
       "      <td>-67.369128</td>\n",
       "    </tr>\n",
       "    <tr>\n",
       "      <th>7118</th>\n",
       "      <td>-21.092168</td>\n",
       "      <td>-14.986182</td>\n",
       "      <td>32.998865</td>\n",
       "    </tr>\n",
       "  </tbody>\n",
       "</table>\n",
       "</div>"
      ],
      "text/plain": [
       "              Ia          Ib         Ic\n",
       "5170 -788.655728  739.091922  49.561543\n",
       "6212  -69.527452   81.777873 -15.610053\n",
       "5593   48.586030  -21.064266 -27.025873\n",
       "7752  -28.185556   92.657229 -67.369128\n",
       "7118  -21.092168  -14.986182  32.998865"
      ]
     },
     "execution_count": 27,
     "metadata": {},
     "output_type": "execute_result"
    }
   ],
   "source": [
    "current_train = x_train.drop(columns = ['Va','Vb','Vc'])\n",
    "current_train.head()"
   ]
  },
  {
   "cell_type": "code",
   "execution_count": 28,
   "id": "21619cda",
   "metadata": {},
   "outputs": [
    {
     "data": {
      "text/html": [
       "<div>\n",
       "<style scoped>\n",
       "    .dataframe tbody tr th:only-of-type {\n",
       "        vertical-align: middle;\n",
       "    }\n",
       "\n",
       "    .dataframe tbody tr th {\n",
       "        vertical-align: top;\n",
       "    }\n",
       "\n",
       "    .dataframe thead th {\n",
       "        text-align: right;\n",
       "    }\n",
       "</style>\n",
       "<table border=\"1\" class=\"dataframe\">\n",
       "  <thead>\n",
       "    <tr style=\"text-align: right;\">\n",
       "      <th></th>\n",
       "      <th>Va</th>\n",
       "      <th>Vb</th>\n",
       "      <th>Vc</th>\n",
       "    </tr>\n",
       "  </thead>\n",
       "  <tbody>\n",
       "    <tr>\n",
       "      <th>5170</th>\n",
       "      <td>-0.000654</td>\n",
       "      <td>0.037034</td>\n",
       "      <td>-0.036380</td>\n",
       "    </tr>\n",
       "    <tr>\n",
       "      <th>6212</th>\n",
       "      <td>-0.312308</td>\n",
       "      <td>-0.286908</td>\n",
       "      <td>0.599216</td>\n",
       "    </tr>\n",
       "    <tr>\n",
       "      <th>5593</th>\n",
       "      <td>0.424838</td>\n",
       "      <td>0.162779</td>\n",
       "      <td>-0.587617</td>\n",
       "    </tr>\n",
       "    <tr>\n",
       "      <th>7752</th>\n",
       "      <td>-0.614224</td>\n",
       "      <td>0.259343</td>\n",
       "      <td>0.354881</td>\n",
       "    </tr>\n",
       "    <tr>\n",
       "      <th>7118</th>\n",
       "      <td>0.540213</td>\n",
       "      <td>-0.471532</td>\n",
       "      <td>-0.068681</td>\n",
       "    </tr>\n",
       "  </tbody>\n",
       "</table>\n",
       "</div>"
      ],
      "text/plain": [
       "            Va        Vb        Vc\n",
       "5170 -0.000654  0.037034 -0.036380\n",
       "6212 -0.312308 -0.286908  0.599216\n",
       "5593  0.424838  0.162779 -0.587617\n",
       "7752 -0.614224  0.259343  0.354881\n",
       "7118  0.540213 -0.471532 -0.068681"
      ]
     },
     "execution_count": 28,
     "metadata": {},
     "output_type": "execute_result"
    }
   ],
   "source": [
    "voltage_train = x_train[['Va','Vb','Vc']]\n",
    "voltage_train.head()"
   ]
  },
  {
   "cell_type": "code",
   "execution_count": 29,
   "id": "76f692ca",
   "metadata": {},
   "outputs": [
    {
     "data": {
      "text/html": [
       "<div>\n",
       "<style scoped>\n",
       "    .dataframe tbody tr th:only-of-type {\n",
       "        vertical-align: middle;\n",
       "    }\n",
       "\n",
       "    .dataframe tbody tr th {\n",
       "        vertical-align: top;\n",
       "    }\n",
       "\n",
       "    .dataframe thead th {\n",
       "        text-align: right;\n",
       "    }\n",
       "</style>\n",
       "<table border=\"1\" class=\"dataframe\">\n",
       "  <thead>\n",
       "    <tr style=\"text-align: right;\">\n",
       "      <th></th>\n",
       "      <th>Ia</th>\n",
       "      <th>Ib</th>\n",
       "      <th>Ic</th>\n",
       "    </tr>\n",
       "  </thead>\n",
       "  <tbody>\n",
       "    <tr>\n",
       "      <th>2669</th>\n",
       "      <td>45.634583</td>\n",
       "      <td>59.726389</td>\n",
       "      <td>-102.650437</td>\n",
       "    </tr>\n",
       "    <tr>\n",
       "      <th>6900</th>\n",
       "      <td>21.381226</td>\n",
       "      <td>66.679004</td>\n",
       "      <td>-91.204911</td>\n",
       "    </tr>\n",
       "    <tr>\n",
       "      <th>2502</th>\n",
       "      <td>-69.830748</td>\n",
       "      <td>341.658246</td>\n",
       "      <td>-269.367551</td>\n",
       "    </tr>\n",
       "    <tr>\n",
       "      <th>2218</th>\n",
       "      <td>603.011449</td>\n",
       "      <td>45.176061</td>\n",
       "      <td>32.992676</td>\n",
       "    </tr>\n",
       "    <tr>\n",
       "      <th>3606</th>\n",
       "      <td>-30.001335</td>\n",
       "      <td>780.520542</td>\n",
       "      <td>-748.398252</td>\n",
       "    </tr>\n",
       "  </tbody>\n",
       "</table>\n",
       "</div>"
      ],
      "text/plain": [
       "              Ia          Ib          Ic\n",
       "2669   45.634583   59.726389 -102.650437\n",
       "6900   21.381226   66.679004  -91.204911\n",
       "2502  -69.830748  341.658246 -269.367551\n",
       "2218  603.011449   45.176061   32.992676\n",
       "3606  -30.001335  780.520542 -748.398252"
      ]
     },
     "execution_count": 29,
     "metadata": {},
     "output_type": "execute_result"
    }
   ],
   "source": [
    "current_test = x_test.drop(columns = ['Va','Vb','Vc'])\n",
    "current_test.head()"
   ]
  },
  {
   "cell_type": "code",
   "execution_count": 30,
   "id": "e3fa3836",
   "metadata": {},
   "outputs": [
    {
     "data": {
      "text/html": [
       "<div>\n",
       "<style scoped>\n",
       "    .dataframe tbody tr th:only-of-type {\n",
       "        vertical-align: middle;\n",
       "    }\n",
       "\n",
       "    .dataframe tbody tr th {\n",
       "        vertical-align: top;\n",
       "    }\n",
       "\n",
       "    .dataframe thead th {\n",
       "        text-align: right;\n",
       "    }\n",
       "</style>\n",
       "<table border=\"1\" class=\"dataframe\">\n",
       "  <thead>\n",
       "    <tr style=\"text-align: right;\">\n",
       "      <th></th>\n",
       "      <th>Va</th>\n",
       "      <th>Vb</th>\n",
       "      <th>Vc</th>\n",
       "    </tr>\n",
       "  </thead>\n",
       "  <tbody>\n",
       "    <tr>\n",
       "      <th>2669</th>\n",
       "      <td>0.485733</td>\n",
       "      <td>0.041909</td>\n",
       "      <td>-0.527642</td>\n",
       "    </tr>\n",
       "    <tr>\n",
       "      <th>6900</th>\n",
       "      <td>-0.475572</td>\n",
       "      <td>0.589884</td>\n",
       "      <td>-0.114312</td>\n",
       "    </tr>\n",
       "    <tr>\n",
       "      <th>2502</th>\n",
       "      <td>-0.366806</td>\n",
       "      <td>-0.039522</td>\n",
       "      <td>0.406329</td>\n",
       "    </tr>\n",
       "    <tr>\n",
       "      <th>2218</th>\n",
       "      <td>0.173015</td>\n",
       "      <td>-0.489396</td>\n",
       "      <td>0.316382</td>\n",
       "    </tr>\n",
       "    <tr>\n",
       "      <th>3606</th>\n",
       "      <td>0.036803</td>\n",
       "      <td>-0.000242</td>\n",
       "      <td>-0.036561</td>\n",
       "    </tr>\n",
       "  </tbody>\n",
       "</table>\n",
       "</div>"
      ],
      "text/plain": [
       "            Va        Vb        Vc\n",
       "2669  0.485733  0.041909 -0.527642\n",
       "6900 -0.475572  0.589884 -0.114312\n",
       "2502 -0.366806 -0.039522  0.406329\n",
       "2218  0.173015 -0.489396  0.316382\n",
       "3606  0.036803 -0.000242 -0.036561"
      ]
     },
     "execution_count": 30,
     "metadata": {},
     "output_type": "execute_result"
    }
   ],
   "source": [
    "volatge_test = x_test[['Va','Vb','Vc']]\n",
    "volatge_test.head()"
   ]
  },
  {
   "cell_type": "code",
   "execution_count": 31,
   "id": "3f18b248",
   "metadata": {},
   "outputs": [],
   "source": [
    "from sklearn.preprocessing import StandardScaler\n",
    "ss = StandardScaler()"
   ]
  },
  {
   "cell_type": "code",
   "execution_count": 32,
   "id": "6c30592a",
   "metadata": {},
   "outputs": [],
   "source": [
    "current_train = pd.DataFrame(ss.fit_transform(current_train),columns = ['Ia','Ib','Ic'])\n",
    "current_test = pd.DataFrame(ss.transform(current_test),columns = ['Ia','Ib','Ic'])"
   ]
  },
  {
   "cell_type": "code",
   "execution_count": 33,
   "id": "5ad76e12",
   "metadata": {},
   "outputs": [
    {
     "data": {
      "text/html": [
       "<div>\n",
       "<style scoped>\n",
       "    .dataframe tbody tr th:only-of-type {\n",
       "        vertical-align: middle;\n",
       "    }\n",
       "\n",
       "    .dataframe tbody tr th {\n",
       "        vertical-align: top;\n",
       "    }\n",
       "\n",
       "    .dataframe thead th {\n",
       "        text-align: right;\n",
       "    }\n",
       "</style>\n",
       "<table border=\"1\" class=\"dataframe\">\n",
       "  <thead>\n",
       "    <tr style=\"text-align: right;\">\n",
       "      <th></th>\n",
       "      <th>Ia</th>\n",
       "      <th>Ib</th>\n",
       "      <th>Ic</th>\n",
       "    </tr>\n",
       "  </thead>\n",
       "  <tbody>\n",
       "    <tr>\n",
       "      <th>0</th>\n",
       "      <td>-1.739949</td>\n",
       "      <td>1.787266</td>\n",
       "      <td>0.045632</td>\n",
       "    </tr>\n",
       "    <tr>\n",
       "      <th>1</th>\n",
       "      <td>-0.183668</td>\n",
       "      <td>0.284800</td>\n",
       "      <td>-0.129582</td>\n",
       "    </tr>\n",
       "    <tr>\n",
       "      <th>2</th>\n",
       "      <td>0.071944</td>\n",
       "      <td>0.049727</td>\n",
       "      <td>-0.160273</td>\n",
       "    </tr>\n",
       "    <tr>\n",
       "      <th>3</th>\n",
       "      <td>-0.094199</td>\n",
       "      <td>0.309668</td>\n",
       "      <td>-0.268736</td>\n",
       "    </tr>\n",
       "    <tr>\n",
       "      <th>4</th>\n",
       "      <td>-0.078848</td>\n",
       "      <td>0.063620</td>\n",
       "      <td>0.001103</td>\n",
       "    </tr>\n",
       "  </tbody>\n",
       "</table>\n",
       "</div>"
      ],
      "text/plain": [
       "         Ia        Ib        Ic\n",
       "0 -1.739949  1.787266  0.045632\n",
       "1 -0.183668  0.284800 -0.129582\n",
       "2  0.071944  0.049727 -0.160273\n",
       "3 -0.094199  0.309668 -0.268736\n",
       "4 -0.078848  0.063620  0.001103"
      ]
     },
     "execution_count": 33,
     "metadata": {},
     "output_type": "execute_result"
    }
   ],
   "source": [
    "current_train.head()"
   ]
  },
  {
   "cell_type": "code",
   "execution_count": 34,
   "id": "5e0950f9",
   "metadata": {},
   "outputs": [
    {
     "data": {
      "text/html": [
       "<div>\n",
       "<style scoped>\n",
       "    .dataframe tbody tr th:only-of-type {\n",
       "        vertical-align: middle;\n",
       "    }\n",
       "\n",
       "    .dataframe tbody tr th {\n",
       "        vertical-align: top;\n",
       "    }\n",
       "\n",
       "    .dataframe thead th {\n",
       "        text-align: right;\n",
       "    }\n",
       "</style>\n",
       "<table border=\"1\" class=\"dataframe\">\n",
       "  <thead>\n",
       "    <tr style=\"text-align: right;\">\n",
       "      <th></th>\n",
       "      <th>Va</th>\n",
       "      <th>Vb</th>\n",
       "      <th>Vc</th>\n",
       "    </tr>\n",
       "  </thead>\n",
       "  <tbody>\n",
       "    <tr>\n",
       "      <th>5170</th>\n",
       "      <td>-0.000654</td>\n",
       "      <td>0.037034</td>\n",
       "      <td>-0.036380</td>\n",
       "    </tr>\n",
       "    <tr>\n",
       "      <th>6212</th>\n",
       "      <td>-0.312308</td>\n",
       "      <td>-0.286908</td>\n",
       "      <td>0.599216</td>\n",
       "    </tr>\n",
       "    <tr>\n",
       "      <th>5593</th>\n",
       "      <td>0.424838</td>\n",
       "      <td>0.162779</td>\n",
       "      <td>-0.587617</td>\n",
       "    </tr>\n",
       "    <tr>\n",
       "      <th>7752</th>\n",
       "      <td>-0.614224</td>\n",
       "      <td>0.259343</td>\n",
       "      <td>0.354881</td>\n",
       "    </tr>\n",
       "    <tr>\n",
       "      <th>7118</th>\n",
       "      <td>0.540213</td>\n",
       "      <td>-0.471532</td>\n",
       "      <td>-0.068681</td>\n",
       "    </tr>\n",
       "  </tbody>\n",
       "</table>\n",
       "</div>"
      ],
      "text/plain": [
       "            Va        Vb        Vc\n",
       "5170 -0.000654  0.037034 -0.036380\n",
       "6212 -0.312308 -0.286908  0.599216\n",
       "5593  0.424838  0.162779 -0.587617\n",
       "7752 -0.614224  0.259343  0.354881\n",
       "7118  0.540213 -0.471532 -0.068681"
      ]
     },
     "execution_count": 34,
     "metadata": {},
     "output_type": "execute_result"
    }
   ],
   "source": [
    "voltage_train.head()"
   ]
  },
  {
   "cell_type": "markdown",
   "id": "544bb5ab",
   "metadata": {},
   "source": [
    "Note: \n",
    "    \n",
    "    Since the index number is changing after apply scaling we have to reset the index"
   ]
  },
  {
   "cell_type": "code",
   "execution_count": 35,
   "id": "bbfe1689",
   "metadata": {},
   "outputs": [],
   "source": [
    "current_train.reset_index(drop = True, inplace = True)"
   ]
  },
  {
   "cell_type": "code",
   "execution_count": 36,
   "id": "3f40721e",
   "metadata": {},
   "outputs": [],
   "source": [
    "voltage_train.reset_index(drop = True, inplace = True)"
   ]
  },
  {
   "cell_type": "code",
   "execution_count": 37,
   "id": "856997c1",
   "metadata": {},
   "outputs": [],
   "source": [
    "x_train_s = pd.concat([current_train,voltage_train],axis = 1)"
   ]
  },
  {
   "cell_type": "code",
   "execution_count": 38,
   "id": "6296c75f",
   "metadata": {},
   "outputs": [],
   "source": [
    "current_test.reset_index(drop = True, inplace = True)\n",
    "volatge_test.reset_index(drop = True, inplace = True)"
   ]
  },
  {
   "cell_type": "code",
   "execution_count": 39,
   "id": "8c11b553",
   "metadata": {},
   "outputs": [],
   "source": [
    "x_test_s = pd.concat([current_test,volatge_test],axis = 1)"
   ]
  },
  {
   "cell_type": "code",
   "execution_count": 40,
   "id": "9ee1ad23",
   "metadata": {},
   "outputs": [
    {
     "data": {
      "text/html": [
       "<div>\n",
       "<style scoped>\n",
       "    .dataframe tbody tr th:only-of-type {\n",
       "        vertical-align: middle;\n",
       "    }\n",
       "\n",
       "    .dataframe tbody tr th {\n",
       "        vertical-align: top;\n",
       "    }\n",
       "\n",
       "    .dataframe thead th {\n",
       "        text-align: right;\n",
       "    }\n",
       "</style>\n",
       "<table border=\"1\" class=\"dataframe\">\n",
       "  <thead>\n",
       "    <tr style=\"text-align: right;\">\n",
       "      <th></th>\n",
       "      <th>Ia</th>\n",
       "      <th>Ib</th>\n",
       "      <th>Ic</th>\n",
       "      <th>Va</th>\n",
       "      <th>Vb</th>\n",
       "      <th>Vc</th>\n",
       "    </tr>\n",
       "  </thead>\n",
       "  <tbody>\n",
       "    <tr>\n",
       "      <th>5170</th>\n",
       "      <td>-788.655728</td>\n",
       "      <td>739.091922</td>\n",
       "      <td>49.561543</td>\n",
       "      <td>-0.000654</td>\n",
       "      <td>0.037034</td>\n",
       "      <td>-0.036380</td>\n",
       "    </tr>\n",
       "    <tr>\n",
       "      <th>6212</th>\n",
       "      <td>-69.527452</td>\n",
       "      <td>81.777873</td>\n",
       "      <td>-15.610053</td>\n",
       "      <td>-0.312308</td>\n",
       "      <td>-0.286908</td>\n",
       "      <td>0.599216</td>\n",
       "    </tr>\n",
       "    <tr>\n",
       "      <th>5593</th>\n",
       "      <td>48.586030</td>\n",
       "      <td>-21.064266</td>\n",
       "      <td>-27.025873</td>\n",
       "      <td>0.424838</td>\n",
       "      <td>0.162779</td>\n",
       "      <td>-0.587617</td>\n",
       "    </tr>\n",
       "    <tr>\n",
       "      <th>7752</th>\n",
       "      <td>-28.185556</td>\n",
       "      <td>92.657229</td>\n",
       "      <td>-67.369128</td>\n",
       "      <td>-0.614224</td>\n",
       "      <td>0.259343</td>\n",
       "      <td>0.354881</td>\n",
       "    </tr>\n",
       "    <tr>\n",
       "      <th>7118</th>\n",
       "      <td>-21.092168</td>\n",
       "      <td>-14.986182</td>\n",
       "      <td>32.998865</td>\n",
       "      <td>0.540213</td>\n",
       "      <td>-0.471532</td>\n",
       "      <td>-0.068681</td>\n",
       "    </tr>\n",
       "  </tbody>\n",
       "</table>\n",
       "</div>"
      ],
      "text/plain": [
       "              Ia          Ib         Ic        Va        Vb        Vc\n",
       "5170 -788.655728  739.091922  49.561543 -0.000654  0.037034 -0.036380\n",
       "6212  -69.527452   81.777873 -15.610053 -0.312308 -0.286908  0.599216\n",
       "5593   48.586030  -21.064266 -27.025873  0.424838  0.162779 -0.587617\n",
       "7752  -28.185556   92.657229 -67.369128 -0.614224  0.259343  0.354881\n",
       "7118  -21.092168  -14.986182  32.998865  0.540213 -0.471532 -0.068681"
      ]
     },
     "execution_count": 40,
     "metadata": {},
     "output_type": "execute_result"
    }
   ],
   "source": [
    "x_train.head()"
   ]
  },
  {
   "cell_type": "code",
   "execution_count": 41,
   "id": "61ce89c3",
   "metadata": {},
   "outputs": [
    {
     "data": {
      "text/html": [
       "<div>\n",
       "<style scoped>\n",
       "    .dataframe tbody tr th:only-of-type {\n",
       "        vertical-align: middle;\n",
       "    }\n",
       "\n",
       "    .dataframe tbody tr th {\n",
       "        vertical-align: top;\n",
       "    }\n",
       "\n",
       "    .dataframe thead th {\n",
       "        text-align: right;\n",
       "    }\n",
       "</style>\n",
       "<table border=\"1\" class=\"dataframe\">\n",
       "  <thead>\n",
       "    <tr style=\"text-align: right;\">\n",
       "      <th></th>\n",
       "      <th>Ia</th>\n",
       "      <th>Ib</th>\n",
       "      <th>Ic</th>\n",
       "      <th>Va</th>\n",
       "      <th>Vb</th>\n",
       "      <th>Vc</th>\n",
       "    </tr>\n",
       "  </thead>\n",
       "  <tbody>\n",
       "    <tr>\n",
       "      <th>0</th>\n",
       "      <td>-1.739949</td>\n",
       "      <td>1.787266</td>\n",
       "      <td>0.045632</td>\n",
       "      <td>-0.000654</td>\n",
       "      <td>0.037034</td>\n",
       "      <td>-0.036380</td>\n",
       "    </tr>\n",
       "    <tr>\n",
       "      <th>1</th>\n",
       "      <td>-0.183668</td>\n",
       "      <td>0.284800</td>\n",
       "      <td>-0.129582</td>\n",
       "      <td>-0.312308</td>\n",
       "      <td>-0.286908</td>\n",
       "      <td>0.599216</td>\n",
       "    </tr>\n",
       "    <tr>\n",
       "      <th>2</th>\n",
       "      <td>0.071944</td>\n",
       "      <td>0.049727</td>\n",
       "      <td>-0.160273</td>\n",
       "      <td>0.424838</td>\n",
       "      <td>0.162779</td>\n",
       "      <td>-0.587617</td>\n",
       "    </tr>\n",
       "    <tr>\n",
       "      <th>3</th>\n",
       "      <td>-0.094199</td>\n",
       "      <td>0.309668</td>\n",
       "      <td>-0.268736</td>\n",
       "      <td>-0.614224</td>\n",
       "      <td>0.259343</td>\n",
       "      <td>0.354881</td>\n",
       "    </tr>\n",
       "    <tr>\n",
       "      <th>4</th>\n",
       "      <td>-0.078848</td>\n",
       "      <td>0.063620</td>\n",
       "      <td>0.001103</td>\n",
       "      <td>0.540213</td>\n",
       "      <td>-0.471532</td>\n",
       "      <td>-0.068681</td>\n",
       "    </tr>\n",
       "  </tbody>\n",
       "</table>\n",
       "</div>"
      ],
      "text/plain": [
       "         Ia        Ib        Ic        Va        Vb        Vc\n",
       "0 -1.739949  1.787266  0.045632 -0.000654  0.037034 -0.036380\n",
       "1 -0.183668  0.284800 -0.129582 -0.312308 -0.286908  0.599216\n",
       "2  0.071944  0.049727 -0.160273  0.424838  0.162779 -0.587617\n",
       "3 -0.094199  0.309668 -0.268736 -0.614224  0.259343  0.354881\n",
       "4 -0.078848  0.063620  0.001103  0.540213 -0.471532 -0.068681"
      ]
     },
     "execution_count": 41,
     "metadata": {},
     "output_type": "execute_result"
    }
   ],
   "source": [
    "x_train_s.head()"
   ]
  },
  {
   "cell_type": "markdown",
   "id": "6a46dcb6",
   "metadata": {},
   "source": [
    "## Model Building\n",
    "\n",
    "We will build two models for our project which are Decision Tree Classifier and KNN Classifier"
   ]
  },
  {
   "cell_type": "markdown",
   "id": "f9da79c6",
   "metadata": {},
   "source": [
    "### 1. Decision Tree"
   ]
  },
  {
   "cell_type": "code",
   "execution_count": 42,
   "id": "51c4d69d",
   "metadata": {},
   "outputs": [],
   "source": [
    "from sklearn.tree import DecisionTreeClassifier\n",
    "dtc = DecisionTreeClassifier(max_depth= 35,ccp_alpha= 0.0,criterion= 'entropy')"
   ]
  },
  {
   "cell_type": "code",
   "execution_count": 43,
   "id": "c57830d1",
   "metadata": {},
   "outputs": [
    {
     "data": {
      "text/plain": [
       "DecisionTreeClassifier(criterion='entropy', max_depth=35)"
      ]
     },
     "execution_count": 43,
     "metadata": {},
     "output_type": "execute_result"
    }
   ],
   "source": [
    "dtc.fit(x_train_s,y_train)"
   ]
  },
  {
   "cell_type": "code",
   "execution_count": 44,
   "id": "79d1596e",
   "metadata": {},
   "outputs": [],
   "source": [
    "y_pred1 = dtc.predict(x_test_s)"
   ]
  },
  {
   "cell_type": "markdown",
   "id": "431190c9",
   "metadata": {},
   "source": [
    "#### Accuracy score, Actual Vs Predicted, Cross-Validation"
   ]
  },
  {
   "cell_type": "code",
   "execution_count": 45,
   "id": "40c19efe",
   "metadata": {},
   "outputs": [
    {
     "name": "stdout",
     "output_type": "stream",
     "text": [
      "Score on Test is 0.86\n"
     ]
    }
   ],
   "source": [
    "from sklearn.metrics import accuracy_score\n",
    "print('Score on Test is {}'.format(accuracy_score(y_test,y_pred1).round(2)))"
   ]
  },
  {
   "cell_type": "code",
   "execution_count": 46,
   "id": "43c91df6",
   "metadata": {},
   "outputs": [
    {
     "name": "stdout",
     "output_type": "stream",
     "text": [
      "Score on Train is 0.92\n"
     ]
    }
   ],
   "source": [
    "print('Score on Train is {}'.format(dtc.score(x_train_s,y_train).round(2)))"
   ]
  },
  {
   "cell_type": "code",
   "execution_count": 47,
   "id": "ba5ea59c",
   "metadata": {},
   "outputs": [
    {
     "data": {
      "text/plain": [
       "array([[0, 1, 1, 0],\n",
       "       [0, 0, 0, 0],\n",
       "       [0, 1, 1, 0],\n",
       "       [1, 0, 1, 1],\n",
       "       [0, 1, 1, 1]], dtype=int64)"
      ]
     },
     "execution_count": 47,
     "metadata": {},
     "output_type": "execute_result"
    }
   ],
   "source": [
    "y_test.head().values"
   ]
  },
  {
   "cell_type": "code",
   "execution_count": 48,
   "id": "77c9d7e4",
   "metadata": {},
   "outputs": [
    {
     "data": {
      "text/plain": [
       "array([[0, 1, 1, 0],\n",
       "       [0, 0, 0, 0],\n",
       "       [0, 1, 1, 0],\n",
       "       [1, 0, 1, 1],\n",
       "       [0, 1, 1, 1]], dtype=int64)"
      ]
     },
     "execution_count": 48,
     "metadata": {},
     "output_type": "execute_result"
    }
   ],
   "source": [
    "y_pred1[:5]"
   ]
  },
  {
   "cell_type": "code",
   "execution_count": 49,
   "id": "85485195",
   "metadata": {},
   "outputs": [],
   "source": [
    "from sklearn.model_selection import KFold,cross_validate\n",
    "kfold = KFold(n_splits = 5)\n",
    "cross_validation = cross_validate(dtc,x_train_s,y_train,cv = kfold,scoring = ['accuracy'])"
   ]
  },
  {
   "cell_type": "code",
   "execution_count": 50,
   "id": "c4be848f",
   "metadata": {},
   "outputs": [
    {
     "name": "stdout",
     "output_type": "stream",
     "text": [
      "Cross Validation Score is 0.8680027774510435\n"
     ]
    }
   ],
   "source": [
    "# cross_validation['test_accuracy'].mean()\n",
    "print('Cross Validation Score is {}'.format(cross_validation['test_accuracy'].mean()))"
   ]
  },
  {
   "cell_type": "markdown",
   "id": "0dd32644",
   "metadata": {},
   "source": [
    "### 3. KNN Classifier"
   ]
  },
  {
   "cell_type": "code",
   "execution_count": 51,
   "id": "f6ee5a1a",
   "metadata": {},
   "outputs": [],
   "source": [
    "from sklearn.neighbors import KNeighborsClassifier\n",
    "from sklearn.multioutput import MultiOutputClassifier\n",
    "moc = MultiOutputClassifier(KNeighborsClassifier(n_neighbors = 7,algorithm = 'kd_tree',weights='distance',p = 2))"
   ]
  },
  {
   "cell_type": "code",
   "execution_count": 52,
   "id": "c358eaee",
   "metadata": {},
   "outputs": [
    {
     "data": {
      "text/plain": [
       "MultiOutputClassifier(estimator=KNeighborsClassifier(algorithm='kd_tree',\n",
       "                                                     n_neighbors=7,\n",
       "                                                     weights='distance'))"
      ]
     },
     "execution_count": 52,
     "metadata": {},
     "output_type": "execute_result"
    }
   ],
   "source": [
    "moc.fit(x_train_s,y_train)"
   ]
  },
  {
   "cell_type": "code",
   "execution_count": 53,
   "id": "59899b9a",
   "metadata": {},
   "outputs": [],
   "source": [
    "y_pred2 = moc.predict(x_test_s)"
   ]
  },
  {
   "cell_type": "markdown",
   "id": "c6592d74",
   "metadata": {},
   "source": [
    "#### Accuracy score, Actual Vs Predicted, Cross-Validation"
   ]
  },
  {
   "cell_type": "code",
   "execution_count": 54,
   "id": "ff8f3587",
   "metadata": {},
   "outputs": [
    {
     "name": "stdout",
     "output_type": "stream",
     "text": [
      "Score on Test is 0.87\n"
     ]
    }
   ],
   "source": [
    "from sklearn.metrics import accuracy_score\n",
    "print('Score on Test is {}'.format(accuracy_score(y_test,y_pred2).round(2)))"
   ]
  },
  {
   "cell_type": "code",
   "execution_count": 55,
   "id": "e8e2dbf9",
   "metadata": {},
   "outputs": [
    {
     "data": {
      "text/plain": [
       "array([[0, 1, 1, 0],\n",
       "       [0, 0, 0, 0],\n",
       "       [0, 1, 1, 0],\n",
       "       [1, 0, 1, 1],\n",
       "       [0, 1, 1, 1]], dtype=int64)"
      ]
     },
     "execution_count": 55,
     "metadata": {},
     "output_type": "execute_result"
    }
   ],
   "source": [
    "y_test.head().values"
   ]
  },
  {
   "cell_type": "code",
   "execution_count": 56,
   "id": "d8a8c2d9",
   "metadata": {},
   "outputs": [
    {
     "data": {
      "text/plain": [
       "array([[0, 1, 1, 0],\n",
       "       [0, 0, 0, 0],\n",
       "       [0, 1, 1, 0],\n",
       "       [1, 0, 1, 1],\n",
       "       [0, 1, 1, 1]], dtype=int64)"
      ]
     },
     "execution_count": 56,
     "metadata": {},
     "output_type": "execute_result"
    }
   ],
   "source": [
    "y_pred2[:5]"
   ]
  },
  {
   "cell_type": "code",
   "execution_count": 57,
   "id": "137566d7",
   "metadata": {},
   "outputs": [],
   "source": [
    "from sklearn.model_selection import KFold,cross_validate\n",
    "kfold = KFold(n_splits = 5)\n",
    "cross_validation = cross_validate(moc,x_train_s,y_train,cv = kfold,scoring = ['accuracy'])"
   ]
  },
  {
   "cell_type": "code",
   "execution_count": 58,
   "id": "39d7624b",
   "metadata": {},
   "outputs": [
    {
     "name": "stdout",
     "output_type": "stream",
     "text": [
      "Cross Validation Score is 0.8589391300608484\n"
     ]
    }
   ],
   "source": [
    "print('Cross Validation Score is {}'.format(cross_validation['test_accuracy'].mean()))"
   ]
  },
  {
   "cell_type": "code",
   "execution_count": 59,
   "id": "ef8670c5",
   "metadata": {},
   "outputs": [],
   "source": [
    "from sklearn.metrics import classification_report"
   ]
  },
  {
   "cell_type": "code",
   "execution_count": 60,
   "id": "d480309a",
   "metadata": {},
   "outputs": [
    {
     "name": "stdout",
     "output_type": "stream",
     "text": [
      "              precision    recall  f1-score   support\n",
      "\n",
      "           G       0.87      0.82      0.85       714\n",
      "           C       1.00      1.00      1.00       643\n",
      "           B       1.00      1.00      1.00       887\n",
      "           A       1.00      1.00      1.00       935\n",
      "\n",
      "   micro avg       0.97      0.96      0.97      3179\n",
      "   macro avg       0.97      0.95      0.96      3179\n",
      "weighted avg       0.97      0.96      0.96      3179\n",
      " samples avg       0.70      0.70      0.70      3179\n",
      "\n"
     ]
    }
   ],
   "source": [
    "target_names = ['G','C','B','A']\n",
    "print(classification_report(y_test,dtc.predict(x_test_s),target_names = target_names))"
   ]
  },
  {
   "cell_type": "code",
   "execution_count": null,
   "id": "34cbf070",
   "metadata": {},
   "outputs": [],
   "source": []
  }
 ],
 "metadata": {
  "kernelspec": {
   "display_name": "Python 3",
   "language": "python",
   "name": "python3"
  },
  "language_info": {
   "codemirror_mode": {
    "name": "ipython",
    "version": 3
   },
   "file_extension": ".py",
   "mimetype": "text/x-python",
   "name": "python",
   "nbconvert_exporter": "python",
   "pygments_lexer": "ipython3",
   "version": "3.8.10"
  }
 },
 "nbformat": 4,
 "nbformat_minor": 5
}
