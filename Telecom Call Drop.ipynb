{
 "cells": [
  {
   "cell_type": "markdown",
   "metadata": {},
   "source": [
    "# Predicting the Percentage of Telecom Call drops with AI"
   ]
  },
  {
   "cell_type": "markdown",
   "metadata": {},
   "source": [
    "Problem Statement:\n",
    "\n",
    "    In the telecom domain, a call drop is a situation where a call on a wireless network is disconnected before the caller ends the call. These call drops can happen for several reasons. Inadequate coverage such as lack of tower infrastructure, network traffic, number of calls at a given tower, time of call, weather status can greatly affect the stability of the network. Sometimes, the network capacity is simply not being ramped up at the same pace as usage, which results in overloaded networks.\n",
    "\n",
    "Objective:\n",
    "\n",
    "    We must understand the reasons for the call drops along with the contributing factors that influence the call drops for the selected tower."
   ]
  },
  {
   "cell_type": "code",
   "execution_count": 1,
   "metadata": {},
   "outputs": [],
   "source": [
    "#Importing required libraries\n",
    "import pandas as pd\n",
    "import numpy as np\n",
    "import matplotlib.pyplot as plt\n",
    "%matplotlib inline\n",
    "import seaborn as sns\n",
    "import warnings\n",
    "warnings.filterwarnings('ignore')"
   ]
  },
  {
   "cell_type": "code",
   "execution_count": 2,
   "metadata": {},
   "outputs": [
    {
     "data": {
      "text/html": [
       "<div>\n",
       "<style scoped>\n",
       "    .dataframe tbody tr th:only-of-type {\n",
       "        vertical-align: middle;\n",
       "    }\n",
       "\n",
       "    .dataframe tbody tr th {\n",
       "        vertical-align: top;\n",
       "    }\n",
       "\n",
       "    .dataframe thead th {\n",
       "        text-align: right;\n",
       "    }\n",
       "</style>\n",
       "<table border=\"1\" class=\"dataframe\">\n",
       "  <thead>\n",
       "    <tr style=\"text-align: right;\">\n",
       "      <th></th>\n",
       "      <th>key</th>\n",
       "      <th>site_id</th>\n",
       "      <th>day</th>\n",
       "      <th>Total Calls</th>\n",
       "      <th>Traffic</th>\n",
       "      <th>lat</th>\n",
       "      <th>long</th>\n",
       "      <th>Call Dropped</th>\n",
       "      <th>Bucket</th>\n",
       "      <th>day_key</th>\n",
       "      <th>Hour_bucket</th>\n",
       "      <th>weather</th>\n",
       "      <th>drop_percentage</th>\n",
       "    </tr>\n",
       "  </thead>\n",
       "  <tbody>\n",
       "    <tr>\n",
       "      <th>0</th>\n",
       "      <td>1717|20170101|1</td>\n",
       "      <td>1717</td>\n",
       "      <td>2017-01-01</td>\n",
       "      <td>499</td>\n",
       "      <td>Low</td>\n",
       "      <td>40.710567</td>\n",
       "      <td>-74.007338</td>\n",
       "      <td>16</td>\n",
       "      <td>1</td>\n",
       "      <td>20170101</td>\n",
       "      <td>00:00 to 4:00</td>\n",
       "      <td>Smoke</td>\n",
       "      <td>3</td>\n",
       "    </tr>\n",
       "    <tr>\n",
       "      <th>1</th>\n",
       "      <td>1717|20170101|2</td>\n",
       "      <td>1717</td>\n",
       "      <td>2017-01-01</td>\n",
       "      <td>554</td>\n",
       "      <td>Medium</td>\n",
       "      <td>40.710567</td>\n",
       "      <td>-74.007338</td>\n",
       "      <td>44</td>\n",
       "      <td>2</td>\n",
       "      <td>20170101</td>\n",
       "      <td>4:00 to 8:00</td>\n",
       "      <td>Shallow Fog</td>\n",
       "      <td>8</td>\n",
       "    </tr>\n",
       "    <tr>\n",
       "      <th>2</th>\n",
       "      <td>1717|20170101|3</td>\n",
       "      <td>1717</td>\n",
       "      <td>2017-01-01</td>\n",
       "      <td>301</td>\n",
       "      <td>Low</td>\n",
       "      <td>40.710567</td>\n",
       "      <td>-74.007338</td>\n",
       "      <td>17</td>\n",
       "      <td>3</td>\n",
       "      <td>20170101</td>\n",
       "      <td>8:00 to 12:00</td>\n",
       "      <td>Shallow Fog</td>\n",
       "      <td>6</td>\n",
       "    </tr>\n",
       "    <tr>\n",
       "      <th>3</th>\n",
       "      <td>1717|20170101|4</td>\n",
       "      <td>1717</td>\n",
       "      <td>2017-01-01</td>\n",
       "      <td>514</td>\n",
       "      <td>Low</td>\n",
       "      <td>40.710567</td>\n",
       "      <td>-74.007338</td>\n",
       "      <td>16</td>\n",
       "      <td>4</td>\n",
       "      <td>20170101</td>\n",
       "      <td>12:00 to 16:00</td>\n",
       "      <td>Fog</td>\n",
       "      <td>3</td>\n",
       "    </tr>\n",
       "    <tr>\n",
       "      <th>4</th>\n",
       "      <td>1717|20170101|5</td>\n",
       "      <td>1717</td>\n",
       "      <td>2017-01-01</td>\n",
       "      <td>262</td>\n",
       "      <td>Low</td>\n",
       "      <td>40.710567</td>\n",
       "      <td>-74.007338</td>\n",
       "      <td>14</td>\n",
       "      <td>5</td>\n",
       "      <td>20170101</td>\n",
       "      <td>16:00 to 20:00</td>\n",
       "      <td>Fog</td>\n",
       "      <td>5</td>\n",
       "    </tr>\n",
       "  </tbody>\n",
       "</table>\n",
       "</div>"
      ],
      "text/plain": [
       "               key  site_id        day  Total Calls Traffic        lat  \\\n",
       "0  1717|20170101|1     1717 2017-01-01          499     Low  40.710567   \n",
       "1  1717|20170101|2     1717 2017-01-01          554  Medium  40.710567   \n",
       "2  1717|20170101|3     1717 2017-01-01          301     Low  40.710567   \n",
       "3  1717|20170101|4     1717 2017-01-01          514     Low  40.710567   \n",
       "4  1717|20170101|5     1717 2017-01-01          262     Low  40.710567   \n",
       "\n",
       "        long  Call Dropped  Bucket   day_key     Hour_bucket      weather  \\\n",
       "0 -74.007338            16       1  20170101   00:00 to 4:00        Smoke   \n",
       "1 -74.007338            44       2  20170101    4:00 to 8:00  Shallow Fog   \n",
       "2 -74.007338            17       3  20170101   8:00 to 12:00  Shallow Fog   \n",
       "3 -74.007338            16       4  20170101  12:00 to 16:00          Fog   \n",
       "4 -74.007338            14       5  20170101  16:00 to 20:00          Fog   \n",
       "\n",
       "   drop_percentage  \n",
       "0                3  \n",
       "1                8  \n",
       "2                6  \n",
       "3                3  \n",
       "4                5  "
      ]
     },
     "execution_count": 2,
     "metadata": {},
     "output_type": "execute_result"
    }
   ],
   "source": [
    "#load the dataset\n",
    "df = pd.read_excel('tower_weather_dataset.xlsx',sheet_name = 2)\n",
    "df.head()"
   ]
  },
  {
   "cell_type": "code",
   "execution_count": 3,
   "metadata": {},
   "outputs": [
    {
     "data": {
      "text/plain": [
       "(906, 13)"
      ]
     },
     "execution_count": 3,
     "metadata": {},
     "output_type": "execute_result"
    }
   ],
   "source": [
    "df.shape"
   ]
  },
  {
   "cell_type": "code",
   "execution_count": 4,
   "metadata": {},
   "outputs": [
    {
     "data": {
      "text/plain": [
       "key                0\n",
       "site_id            0\n",
       "day                0\n",
       "Total Calls        0\n",
       "Traffic            0\n",
       "lat                0\n",
       "long               0\n",
       "Call Dropped       0\n",
       "Bucket             0\n",
       "day_key            0\n",
       "Hour_bucket        0\n",
       "weather            0\n",
       "drop_percentage    0\n",
       "dtype: int64"
      ]
     },
     "execution_count": 4,
     "metadata": {},
     "output_type": "execute_result"
    }
   ],
   "source": [
    "df.isna().sum()"
   ]
  },
  {
   "cell_type": "code",
   "execution_count": 5,
   "metadata": {},
   "outputs": [
    {
     "data": {
      "text/plain": [
       "0"
      ]
     },
     "execution_count": 5,
     "metadata": {},
     "output_type": "execute_result"
    }
   ],
   "source": [
    "df.duplicated().sum()"
   ]
  },
  {
   "cell_type": "code",
   "execution_count": 6,
   "metadata": {},
   "outputs": [
    {
     "name": "stdout",
     "output_type": "stream",
     "text": [
      "<class 'pandas.core.frame.DataFrame'>\n",
      "RangeIndex: 906 entries, 0 to 905\n",
      "Data columns (total 13 columns):\n",
      " #   Column           Non-Null Count  Dtype         \n",
      "---  ------           --------------  -----         \n",
      " 0   key              906 non-null    object        \n",
      " 1   site_id          906 non-null    int64         \n",
      " 2   day              906 non-null    datetime64[ns]\n",
      " 3   Total Calls      906 non-null    int64         \n",
      " 4   Traffic          906 non-null    object        \n",
      " 5   lat              906 non-null    float64       \n",
      " 6   long             906 non-null    float64       \n",
      " 7   Call Dropped     906 non-null    int64         \n",
      " 8   Bucket           906 non-null    int64         \n",
      " 9   day_key          906 non-null    int64         \n",
      " 10  Hour_bucket      906 non-null    object        \n",
      " 11  weather          906 non-null    object        \n",
      " 12  drop_percentage  906 non-null    int64         \n",
      "dtypes: datetime64[ns](1), float64(2), int64(6), object(4)\n",
      "memory usage: 77.9+ KB\n"
     ]
    }
   ],
   "source": [
    "df.info()"
   ]
  },
  {
   "cell_type": "markdown",
   "metadata": {},
   "source": [
    "### Feature Engineering"
   ]
  },
  {
   "cell_type": "code",
   "execution_count": 7,
   "metadata": {},
   "outputs": [
    {
     "data": {
      "text/plain": [
       "<AxesSubplot:>"
      ]
     },
     "execution_count": 7,
     "metadata": {},
     "output_type": "execute_result"
    },
    {
     "data": {
      "image/png": "[encoded data removed]",
      "text/plain": [
       "<Figure size 720x360 with 2 Axes>"
      ]
     },
     "metadata": {
      "needs_background": "light"
     },
     "output_type": "display_data"
    }
   ],
   "source": [
    "from matplotlib.pyplot import figure\n",
    "figure(figsize = (10,5))\n",
    "sns.heatmap(df.corr(),annot = True)"
   ]
  },
  {
   "cell_type": "markdown",
   "metadata": {},
   "source": [
    "From the above figure you can notice that Lat and Site_id are highly correlated so we will remove Site_id,\n",
    "Call Dropped feature is used in deriving the drop_percentage column so it should also be removed,\n",
    "Lat, Long, Day_key, Bucket column are anyway doesnt contribute much to target variable so they have to be removed."
   ]
  },
  {
   "cell_type": "code",
   "execution_count": 8,
   "metadata": {},
   "outputs": [],
   "source": [
    "df.drop(columns = ['key','site_id','day','lat','long','Bucket','day_key','Hour_bucket'],inplace = True)"
   ]
  },
  {
   "cell_type": "code",
   "execution_count": 9,
   "metadata": {},
   "outputs": [
    {
     "data": {
      "text/html": [
       "<div>\n",
       "<style scoped>\n",
       "    .dataframe tbody tr th:only-of-type {\n",
       "        vertical-align: middle;\n",
       "    }\n",
       "\n",
       "    .dataframe tbody tr th {\n",
       "        vertical-align: top;\n",
       "    }\n",
       "\n",
       "    .dataframe thead th {\n",
       "        text-align: right;\n",
       "    }\n",
       "</style>\n",
       "<table border=\"1\" class=\"dataframe\">\n",
       "  <thead>\n",
       "    <tr style=\"text-align: right;\">\n",
       "      <th></th>\n",
       "      <th>Total Calls</th>\n",
       "      <th>Traffic</th>\n",
       "      <th>Call Dropped</th>\n",
       "      <th>weather</th>\n",
       "      <th>drop_percentage</th>\n",
       "    </tr>\n",
       "  </thead>\n",
       "  <tbody>\n",
       "    <tr>\n",
       "      <th>0</th>\n",
       "      <td>499</td>\n",
       "      <td>Low</td>\n",
       "      <td>16</td>\n",
       "      <td>Smoke</td>\n",
       "      <td>3</td>\n",
       "    </tr>\n",
       "    <tr>\n",
       "      <th>1</th>\n",
       "      <td>554</td>\n",
       "      <td>Medium</td>\n",
       "      <td>44</td>\n",
       "      <td>Shallow Fog</td>\n",
       "      <td>8</td>\n",
       "    </tr>\n",
       "    <tr>\n",
       "      <th>2</th>\n",
       "      <td>301</td>\n",
       "      <td>Low</td>\n",
       "      <td>17</td>\n",
       "      <td>Shallow Fog</td>\n",
       "      <td>6</td>\n",
       "    </tr>\n",
       "  </tbody>\n",
       "</table>\n",
       "</div>"
      ],
      "text/plain": [
       "   Total Calls Traffic  Call Dropped      weather  drop_percentage\n",
       "0          499     Low            16        Smoke                3\n",
       "1          554  Medium            44  Shallow Fog                8\n",
       "2          301     Low            17  Shallow Fog                6"
      ]
     },
     "execution_count": 9,
     "metadata": {},
     "output_type": "execute_result"
    }
   ],
   "source": [
    "df.head(3)"
   ]
  },
  {
   "cell_type": "markdown",
   "metadata": {},
   "source": [
    "Note:\n",
    "    There are some categorical values which can be encoded as numbers, so we will take a look at unique values present as categories and convert these fields as category and encode them"
   ]
  },
  {
   "cell_type": "code",
   "execution_count": 10,
   "metadata": {},
   "outputs": [],
   "source": [
    "Traffic_n = pd.get_dummies(df['Traffic'],drop_first = 'True')\n",
    "# Weather_n = pd.get_dummies(df['weather'],drop_first = 'True')"
   ]
  },
  {
   "cell_type": "code",
   "execution_count": 11,
   "metadata": {},
   "outputs": [
    {
     "data": {
      "text/html": [
       "<div>\n",
       "<style scoped>\n",
       "    .dataframe tbody tr th:only-of-type {\n",
       "        vertical-align: middle;\n",
       "    }\n",
       "\n",
       "    .dataframe tbody tr th {\n",
       "        vertical-align: top;\n",
       "    }\n",
       "\n",
       "    .dataframe thead th {\n",
       "        text-align: right;\n",
       "    }\n",
       "</style>\n",
       "<table border=\"1\" class=\"dataframe\">\n",
       "  <thead>\n",
       "    <tr style=\"text-align: right;\">\n",
       "      <th></th>\n",
       "      <th>Total Calls</th>\n",
       "      <th>Traffic</th>\n",
       "      <th>Call Dropped</th>\n",
       "      <th>weather</th>\n",
       "      <th>drop_percentage</th>\n",
       "      <th>Low</th>\n",
       "      <th>Medium</th>\n",
       "    </tr>\n",
       "  </thead>\n",
       "  <tbody>\n",
       "    <tr>\n",
       "      <th>0</th>\n",
       "      <td>499</td>\n",
       "      <td>Low</td>\n",
       "      <td>16</td>\n",
       "      <td>Smoke</td>\n",
       "      <td>3</td>\n",
       "      <td>1</td>\n",
       "      <td>0</td>\n",
       "    </tr>\n",
       "    <tr>\n",
       "      <th>1</th>\n",
       "      <td>554</td>\n",
       "      <td>Medium</td>\n",
       "      <td>44</td>\n",
       "      <td>Shallow Fog</td>\n",
       "      <td>8</td>\n",
       "      <td>0</td>\n",
       "      <td>1</td>\n",
       "    </tr>\n",
       "    <tr>\n",
       "      <th>2</th>\n",
       "      <td>301</td>\n",
       "      <td>Low</td>\n",
       "      <td>17</td>\n",
       "      <td>Shallow Fog</td>\n",
       "      <td>6</td>\n",
       "      <td>1</td>\n",
       "      <td>0</td>\n",
       "    </tr>\n",
       "  </tbody>\n",
       "</table>\n",
       "</div>"
      ],
      "text/plain": [
       "   Total Calls Traffic  Call Dropped      weather  drop_percentage  Low  \\\n",
       "0          499     Low            16        Smoke                3    1   \n",
       "1          554  Medium            44  Shallow Fog                8    0   \n",
       "2          301     Low            17  Shallow Fog                6    1   \n",
       "\n",
       "   Medium  \n",
       "0       0  \n",
       "1       1  \n",
       "2       0  "
      ]
     },
     "execution_count": 11,
     "metadata": {},
     "output_type": "execute_result"
    }
   ],
   "source": [
    "df = pd.concat([df,Traffic_n],axis = 1)\n",
    "df.head(3)"
   ]
  },
  {
   "cell_type": "markdown",
   "metadata": {},
   "source": [
    "Now we have new dataframes by one-hot encoding, so we will concat them with our existing dataframe, but before that we will remove category fields as we don't need them right!"
   ]
  },
  {
   "cell_type": "code",
   "execution_count": 12,
   "metadata": {},
   "outputs": [],
   "source": [
    "df.drop(columns = ['Traffic','Call Dropped'],inplace = True)"
   ]
  },
  {
   "cell_type": "code",
   "execution_count": 13,
   "metadata": {},
   "outputs": [
    {
     "data": {
      "text/html": [
       "<div>\n",
       "<style scoped>\n",
       "    .dataframe tbody tr th:only-of-type {\n",
       "        vertical-align: middle;\n",
       "    }\n",
       "\n",
       "    .dataframe tbody tr th {\n",
       "        vertical-align: top;\n",
       "    }\n",
       "\n",
       "    .dataframe thead th {\n",
       "        text-align: right;\n",
       "    }\n",
       "</style>\n",
       "<table border=\"1\" class=\"dataframe\">\n",
       "  <thead>\n",
       "    <tr style=\"text-align: right;\">\n",
       "      <th></th>\n",
       "      <th>Total Calls</th>\n",
       "      <th>weather</th>\n",
       "      <th>drop_percentage</th>\n",
       "      <th>Low</th>\n",
       "      <th>Medium</th>\n",
       "    </tr>\n",
       "  </thead>\n",
       "  <tbody>\n",
       "    <tr>\n",
       "      <th>0</th>\n",
       "      <td>499</td>\n",
       "      <td>Smoke</td>\n",
       "      <td>3</td>\n",
       "      <td>1</td>\n",
       "      <td>0</td>\n",
       "    </tr>\n",
       "    <tr>\n",
       "      <th>1</th>\n",
       "      <td>554</td>\n",
       "      <td>Shallow Fog</td>\n",
       "      <td>8</td>\n",
       "      <td>0</td>\n",
       "      <td>1</td>\n",
       "    </tr>\n",
       "    <tr>\n",
       "      <th>2</th>\n",
       "      <td>301</td>\n",
       "      <td>Shallow Fog</td>\n",
       "      <td>6</td>\n",
       "      <td>1</td>\n",
       "      <td>0</td>\n",
       "    </tr>\n",
       "  </tbody>\n",
       "</table>\n",
       "</div>"
      ],
      "text/plain": [
       "   Total Calls      weather  drop_percentage  Low  Medium\n",
       "0          499        Smoke                3    1       0\n",
       "1          554  Shallow Fog                8    0       1\n",
       "2          301  Shallow Fog                6    1       0"
      ]
     },
     "execution_count": 13,
     "metadata": {},
     "output_type": "execute_result"
    }
   ],
   "source": [
    "df.head(3)"
   ]
  },
  {
   "cell_type": "markdown",
   "metadata": {},
   "source": [
    "Dimensionality Reduction using PCA"
   ]
  },
  {
   "cell_type": "markdown",
   "metadata": {},
   "source": [
    "##### Apply PCA only on Weather data"
   ]
  },
  {
   "cell_type": "code",
   "execution_count": 14,
   "metadata": {},
   "outputs": [],
   "source": [
    "Weather_n = pd.get_dummies(df['weather'],drop_first = 'True')"
   ]
  },
  {
   "cell_type": "code",
   "execution_count": 15,
   "metadata": {},
   "outputs": [
    {
     "data": {
      "text/plain": [
       "13"
      ]
     },
     "execution_count": 15,
     "metadata": {},
     "output_type": "execute_result"
    }
   ],
   "source": [
    "Weather_n.columns.size"
   ]
  },
  {
   "cell_type": "markdown",
   "metadata": {},
   "source": [
    "Note:\n",
    "    There are 13 weather type features and now will apply Pca and reduce the number of features to 5"
   ]
  },
  {
   "cell_type": "code",
   "execution_count": 16,
   "metadata": {},
   "outputs": [],
   "source": [
    "from sklearn.decomposition import PCA\n",
    "pca = PCA(n_components= 4)"
   ]
  },
  {
   "cell_type": "code",
   "execution_count": 17,
   "metadata": {},
   "outputs": [
    {
     "data": {
      "text/plain": [
       "PCA(n_components=4)"
      ]
     },
     "execution_count": 17,
     "metadata": {},
     "output_type": "execute_result"
    }
   ],
   "source": [
    "pca.fit(Weather_n)"
   ]
  },
  {
   "cell_type": "code",
   "execution_count": 18,
   "metadata": {},
   "outputs": [],
   "source": [
    "pca_weather = pca.transform(Weather_n)"
   ]
  },
  {
   "cell_type": "code",
   "execution_count": 19,
   "metadata": {},
   "outputs": [],
   "source": [
    "weather_after_pca = pd.DataFrame(pca_weather,columns = ['weather1','weather2','weather3','weather4'])"
   ]
  },
  {
   "cell_type": "code",
   "execution_count": 20,
   "metadata": {},
   "outputs": [
    {
     "data": {
      "text/plain": [
       "(906, 5)"
      ]
     },
     "execution_count": 20,
     "metadata": {},
     "output_type": "execute_result"
    }
   ],
   "source": [
    "df.shape"
   ]
  },
  {
   "cell_type": "code",
   "execution_count": 21,
   "metadata": {},
   "outputs": [
    {
     "data": {
      "text/plain": [
       "(906, 4)"
      ]
     },
     "execution_count": 21,
     "metadata": {},
     "output_type": "execute_result"
    }
   ],
   "source": [
    "weather_after_pca.shape"
   ]
  },
  {
   "cell_type": "code",
   "execution_count": 22,
   "metadata": {},
   "outputs": [
    {
     "data": {
      "text/html": [
       "<div>\n",
       "<style scoped>\n",
       "    .dataframe tbody tr th:only-of-type {\n",
       "        vertical-align: middle;\n",
       "    }\n",
       "\n",
       "    .dataframe tbody tr th {\n",
       "        vertical-align: top;\n",
       "    }\n",
       "\n",
       "    .dataframe thead th {\n",
       "        text-align: right;\n",
       "    }\n",
       "</style>\n",
       "<table border=\"1\" class=\"dataframe\">\n",
       "  <thead>\n",
       "    <tr style=\"text-align: right;\">\n",
       "      <th></th>\n",
       "      <th>Total Calls</th>\n",
       "      <th>weather</th>\n",
       "      <th>drop_percentage</th>\n",
       "      <th>Low</th>\n",
       "      <th>Medium</th>\n",
       "      <th>weather1</th>\n",
       "      <th>weather2</th>\n",
       "      <th>weather3</th>\n",
       "      <th>weather4</th>\n",
       "    </tr>\n",
       "  </thead>\n",
       "  <tbody>\n",
       "    <tr>\n",
       "      <th>0</th>\n",
       "      <td>499</td>\n",
       "      <td>Smoke</td>\n",
       "      <td>3</td>\n",
       "      <td>1</td>\n",
       "      <td>0</td>\n",
       "      <td>-0.204023</td>\n",
       "      <td>0.836698</td>\n",
       "      <td>-0.159533</td>\n",
       "      <td>-0.049212</td>\n",
       "    </tr>\n",
       "    <tr>\n",
       "      <th>1</th>\n",
       "      <td>554</td>\n",
       "      <td>Shallow Fog</td>\n",
       "      <td>8</td>\n",
       "      <td>0</td>\n",
       "      <td>1</td>\n",
       "      <td>-0.639384</td>\n",
       "      <td>-0.508263</td>\n",
       "      <td>-0.121249</td>\n",
       "      <td>-0.040534</td>\n",
       "    </tr>\n",
       "    <tr>\n",
       "      <th>2</th>\n",
       "      <td>301</td>\n",
       "      <td>Shallow Fog</td>\n",
       "      <td>6</td>\n",
       "      <td>1</td>\n",
       "      <td>0</td>\n",
       "      <td>-0.639384</td>\n",
       "      <td>-0.508263</td>\n",
       "      <td>-0.121249</td>\n",
       "      <td>-0.040534</td>\n",
       "    </tr>\n",
       "  </tbody>\n",
       "</table>\n",
       "</div>"
      ],
      "text/plain": [
       "   Total Calls      weather  drop_percentage  Low  Medium  weather1  weather2  \\\n",
       "0          499        Smoke                3    1       0 -0.204023  0.836698   \n",
       "1          554  Shallow Fog                8    0       1 -0.639384 -0.508263   \n",
       "2          301  Shallow Fog                6    1       0 -0.639384 -0.508263   \n",
       "\n",
       "   weather3  weather4  \n",
       "0 -0.159533 -0.049212  \n",
       "1 -0.121249 -0.040534  \n",
       "2 -0.121249 -0.040534  "
      ]
     },
     "execution_count": 22,
     "metadata": {},
     "output_type": "execute_result"
    }
   ],
   "source": [
    "df = pd.concat([df,weather_after_pca],axis = 1)\n",
    "df.head(3)"
   ]
  },
  {
   "cell_type": "code",
   "execution_count": 23,
   "metadata": {},
   "outputs": [],
   "source": [
    "df.drop(columns = ['weather'],inplace = True)"
   ]
  },
  {
   "cell_type": "code",
   "execution_count": 24,
   "metadata": {},
   "outputs": [
    {
     "data": {
      "text/html": [
       "<div>\n",
       "<style scoped>\n",
       "    .dataframe tbody tr th:only-of-type {\n",
       "        vertical-align: middle;\n",
       "    }\n",
       "\n",
       "    .dataframe tbody tr th {\n",
       "        vertical-align: top;\n",
       "    }\n",
       "\n",
       "    .dataframe thead th {\n",
       "        text-align: right;\n",
       "    }\n",
       "</style>\n",
       "<table border=\"1\" class=\"dataframe\">\n",
       "  <thead>\n",
       "    <tr style=\"text-align: right;\">\n",
       "      <th></th>\n",
       "      <th>Total Calls</th>\n",
       "      <th>drop_percentage</th>\n",
       "      <th>Low</th>\n",
       "      <th>Medium</th>\n",
       "      <th>weather1</th>\n",
       "      <th>weather2</th>\n",
       "      <th>weather3</th>\n",
       "      <th>weather4</th>\n",
       "    </tr>\n",
       "  </thead>\n",
       "  <tbody>\n",
       "    <tr>\n",
       "      <th>0</th>\n",
       "      <td>499</td>\n",
       "      <td>3</td>\n",
       "      <td>1</td>\n",
       "      <td>0</td>\n",
       "      <td>-0.204023</td>\n",
       "      <td>0.836698</td>\n",
       "      <td>-0.159533</td>\n",
       "      <td>-0.049212</td>\n",
       "    </tr>\n",
       "    <tr>\n",
       "      <th>1</th>\n",
       "      <td>554</td>\n",
       "      <td>8</td>\n",
       "      <td>0</td>\n",
       "      <td>1</td>\n",
       "      <td>-0.639384</td>\n",
       "      <td>-0.508263</td>\n",
       "      <td>-0.121249</td>\n",
       "      <td>-0.040534</td>\n",
       "    </tr>\n",
       "    <tr>\n",
       "      <th>2</th>\n",
       "      <td>301</td>\n",
       "      <td>6</td>\n",
       "      <td>1</td>\n",
       "      <td>0</td>\n",
       "      <td>-0.639384</td>\n",
       "      <td>-0.508263</td>\n",
       "      <td>-0.121249</td>\n",
       "      <td>-0.040534</td>\n",
       "    </tr>\n",
       "  </tbody>\n",
       "</table>\n",
       "</div>"
      ],
      "text/plain": [
       "   Total Calls  drop_percentage  Low  Medium  weather1  weather2  weather3  \\\n",
       "0          499                3    1       0 -0.204023  0.836698 -0.159533   \n",
       "1          554                8    0       1 -0.639384 -0.508263 -0.121249   \n",
       "2          301                6    1       0 -0.639384 -0.508263 -0.121249   \n",
       "\n",
       "   weather4  \n",
       "0 -0.049212  \n",
       "1 -0.040534  \n",
       "2 -0.040534  "
      ]
     },
     "execution_count": 24,
     "metadata": {},
     "output_type": "execute_result"
    }
   ],
   "source": [
    "df.head(3)"
   ]
  },
  {
   "cell_type": "markdown",
   "metadata": {},
   "source": [
    "## Model Development"
   ]
  },
  {
   "cell_type": "code",
   "execution_count": 25,
   "metadata": {},
   "outputs": [],
   "source": [
    "x = df.drop(columns = ['drop_percentage'])\n",
    "y = df[['drop_percentage']]"
   ]
  },
  {
   "cell_type": "markdown",
   "metadata": {},
   "source": [
    "It is recommended practice of splitting data in training and testing before using it in model, in our case we are keeping 80/20 data for training and testing respectively"
   ]
  },
  {
   "cell_type": "code",
   "execution_count": 26,
   "metadata": {},
   "outputs": [],
   "source": [
    "from sklearn.model_selection import train_test_split\n",
    "x_train, x_test, y_train, y_test = train_test_split(x,y,test_size = 0.2,random_state = 0)"
   ]
  },
  {
   "cell_type": "markdown",
   "metadata": {},
   "source": [
    "## Model-1 AdaBoost"
   ]
  },
  {
   "cell_type": "code",
   "execution_count": 27,
   "metadata": {},
   "outputs": [
    {
     "data": {
      "text/plain": [
       "AdaBoostRegressor(base_estimator=DecisionTreeRegressor(ccp_alpha=0.1))"
      ]
     },
     "execution_count": 27,
     "metadata": {},
     "output_type": "execute_result"
    }
   ],
   "source": [
    "from sklearn.ensemble import AdaBoostRegressor\n",
    "from sklearn.tree import DecisionTreeRegressor\n",
    "adaboost = AdaBoostRegressor(base_estimator = DecisionTreeRegressor(criterion = 'mse',ccp_alpha= 0.1))\n",
    "adaboost.fit(x_train,y_train)"
   ]
  },
  {
   "cell_type": "code",
   "execution_count": 28,
   "metadata": {},
   "outputs": [],
   "source": [
    "y_pred1 = adaboost.predict(x_test)"
   ]
  },
  {
   "cell_type": "markdown",
   "metadata": {},
   "source": [
    "#### Model Score, Feature Importance, Cross Validation Score"
   ]
  },
  {
   "cell_type": "code",
   "execution_count": 29,
   "metadata": {},
   "outputs": [
    {
     "name": "stdout",
     "output_type": "stream",
     "text": [
      "Model Score on Test data is: 0.883470820120968\n"
     ]
    }
   ],
   "source": [
    "from sklearn.metrics import r2_score\n",
    "print('Model Score on Test data is: {}'.format(r2_score(y_test,y_pred1)))"
   ]
  },
  {
   "cell_type": "code",
   "execution_count": 30,
   "metadata": {},
   "outputs": [
    {
     "name": "stdout",
     "output_type": "stream",
     "text": [
      "Model Score on Train data is: 0.9082734395620174\n"
     ]
    }
   ],
   "source": [
    "print('Model Score on Train data is: {}'.format(adaboost.score(x_train,y_train)))"
   ]
  },
  {
   "cell_type": "code",
   "execution_count": 31,
   "metadata": {},
   "outputs": [
    {
     "data": {
      "text/plain": [
       "array([0.62169725, 0.22424595, 0.11846905, 0.00805079, 0.01043559,\n",
       "       0.00513946, 0.01196191])"
      ]
     },
     "execution_count": 31,
     "metadata": {},
     "output_type": "execute_result"
    }
   ],
   "source": [
    "adaboost.feature_importances_"
   ]
  },
  {
   "cell_type": "code",
   "execution_count": 32,
   "metadata": {},
   "outputs": [
    {
     "name": "stdout",
     "output_type": "stream",
     "text": [
      "Cross Validation Score: 0.866953459968026\n"
     ]
    }
   ],
   "source": [
    "from sklearn.model_selection import cross_val_score,KFold\n",
    "kfold = KFold(n_splits=5)\n",
    "cross_validation = cross_val_score(adaboost, x, y, cv=kfold)\n",
    "print('Cross Validation Score: {}'.format(cross_validation.mean()))"
   ]
  },
  {
   "cell_type": "markdown",
   "metadata": {},
   "source": [
    "## Model-2 Gradient Boost"
   ]
  },
  {
   "cell_type": "code",
   "execution_count": 33,
   "metadata": {},
   "outputs": [
    {
     "data": {
      "text/plain": [
       "GradientBoostingRegressor(criterion='mse')"
      ]
     },
     "execution_count": 33,
     "metadata": {},
     "output_type": "execute_result"
    }
   ],
   "source": [
    "from sklearn.ensemble import GradientBoostingRegressor\n",
    "gb = GradientBoostingRegressor(criterion='mse',learning_rate = 0.1)\n",
    "gb.fit(x_train,y_train)"
   ]
  },
  {
   "cell_type": "code",
   "execution_count": 34,
   "metadata": {},
   "outputs": [],
   "source": [
    "y_pred2 = gb.predict(x_test)"
   ]
  },
  {
   "cell_type": "markdown",
   "metadata": {},
   "source": [
    "#### Model Score, Feature Importance, Cross Validation Score"
   ]
  },
  {
   "cell_type": "code",
   "execution_count": 35,
   "metadata": {},
   "outputs": [
    {
     "name": "stdout",
     "output_type": "stream",
     "text": [
      "Model Score on Test data is: 0.8819583746307706\n"
     ]
    }
   ],
   "source": [
    "from sklearn.metrics import r2_score\n",
    "print('Model Score on Test data is: {}'.format(r2_score(y_test,y_pred2)))"
   ]
  },
  {
   "cell_type": "code",
   "execution_count": 36,
   "metadata": {},
   "outputs": [
    {
     "name": "stdout",
     "output_type": "stream",
     "text": [
      "Model Score on Train data is: 0.912001725870232\n"
     ]
    }
   ],
   "source": [
    "print('Model Score on Train data is: {}'.format(gb.score(x_train,y_train)))"
   ]
  },
  {
   "cell_type": "code",
   "execution_count": 37,
   "metadata": {},
   "outputs": [
    {
     "data": {
      "text/plain": [
       "array([0.41875747, 0.39419268, 0.18058255, 0.00133939, 0.00178694,\n",
       "       0.0011411 , 0.00219987])"
      ]
     },
     "execution_count": 37,
     "metadata": {},
     "output_type": "execute_result"
    }
   ],
   "source": [
    "gb.feature_importances_"
   ]
  },
  {
   "cell_type": "code",
   "execution_count": 38,
   "metadata": {},
   "outputs": [
    {
     "name": "stdout",
     "output_type": "stream",
     "text": [
      "Cross Validation Score: 0.857150928392844\n"
     ]
    }
   ],
   "source": [
    "from sklearn.model_selection import cross_val_score,KFold\n",
    "kfold = KFold(n_splits=5)\n",
    "cross_validation = cross_val_score(gb, x, y, cv=kfold)\n",
    "print('Cross Validation Score: {}'.format(cross_validation.mean()))"
   ]
  },
  {
   "cell_type": "markdown",
   "metadata": {},
   "source": [
    "## Standard Scaling"
   ]
  },
  {
   "cell_type": "markdown",
   "metadata": {},
   "source": [
    "Here we'll normalize our data by using sklearn's StandardScaler"
   ]
  },
  {
   "cell_type": "code",
   "execution_count": 39,
   "metadata": {},
   "outputs": [],
   "source": [
    "from sklearn.preprocessing import StandardScaler\n",
    "ss = StandardScaler()\n",
    "x_train_scaled = ss.fit_transform(x_train)\n",
    "x_test_scaled = ss.transform(x_test)"
   ]
  },
  {
   "cell_type": "markdown",
   "metadata": {},
   "source": [
    "## Model-3 KNN Regressor"
   ]
  },
  {
   "cell_type": "code",
   "execution_count": 40,
   "metadata": {},
   "outputs": [
    {
     "data": {
      "text/plain": [
       "KNeighborsRegressor(algorithm='kd_tree', n_neighbors=7)"
      ]
     },
     "execution_count": 40,
     "metadata": {},
     "output_type": "execute_result"
    }
   ],
   "source": [
    "from sklearn.neighbors import KNeighborsRegressor\n",
    "knn = KNeighborsRegressor(n_neighbors=7,algorithm='kd_tree')\n",
    "knn.fit(x_train_scaled,y_train)"
   ]
  },
  {
   "cell_type": "code",
   "execution_count": 41,
   "metadata": {},
   "outputs": [],
   "source": [
    "y_pred3 = knn.predict(x_test_scaled)"
   ]
  },
  {
   "cell_type": "markdown",
   "metadata": {},
   "source": [
    "#### Model Score, Prediction vs Actual, Cross Validation Score"
   ]
  },
  {
   "cell_type": "code",
   "execution_count": 42,
   "metadata": {},
   "outputs": [
    {
     "name": "stdout",
     "output_type": "stream",
     "text": [
      "Model Score on Test data is: 0.8552987220137496\n"
     ]
    }
   ],
   "source": [
    "from sklearn.metrics import r2_score\n",
    "print('Model Score on Test data is: {}'.format(r2_score(y_test,y_pred3)))"
   ]
  },
  {
   "cell_type": "code",
   "execution_count": 43,
   "metadata": {},
   "outputs": [
    {
     "data": {
      "text/plain": [
       "array([[13],\n",
       "       [ 5],\n",
       "       [13],\n",
       "       [ 4],\n",
       "       [ 4]], dtype=int64)"
      ]
     },
     "execution_count": 43,
     "metadata": {},
     "output_type": "execute_result"
    }
   ],
   "source": [
    "y_test.head().values"
   ]
  },
  {
   "cell_type": "code",
   "execution_count": 44,
   "metadata": {},
   "outputs": [
    {
     "data": {
      "text/plain": [
       "array([[12.28571429],\n",
       "       [ 7.71428571],\n",
       "       [15.85714286],\n",
       "       [ 4.        ],\n",
       "       [ 5.85714286]])"
      ]
     },
     "execution_count": 44,
     "metadata": {},
     "output_type": "execute_result"
    }
   ],
   "source": [
    "y_pred3[:5]"
   ]
  },
  {
   "cell_type": "code",
   "execution_count": 45,
   "metadata": {},
   "outputs": [
    {
     "name": "stdout",
     "output_type": "stream",
     "text": [
      "Cross Validation Score: 0.8410426130593212\n"
     ]
    }
   ],
   "source": [
    "from sklearn.model_selection import cross_val_score,KFold\n",
    "kfold = KFold(n_splits=5)\n",
    "cross_validation = cross_val_score(knn, x_train_scaled, y_train, cv=kfold)\n",
    "print('Cross Validation Score: {}'.format(cross_validation.mean()))"
   ]
  },
  {
   "cell_type": "markdown",
   "metadata": {},
   "source": [
    "## Model-4 SVM Regressor"
   ]
  },
  {
   "cell_type": "code",
   "execution_count": 46,
   "metadata": {},
   "outputs": [
    {
     "data": {
      "text/plain": [
       "SVR(C=2)"
      ]
     },
     "execution_count": 46,
     "metadata": {},
     "output_type": "execute_result"
    }
   ],
   "source": [
    "from sklearn.svm import SVR\n",
    "svm = SVR(kernel = 'rbf',C = 2)\n",
    "svm.fit(x_train_scaled,y_train)"
   ]
  },
  {
   "cell_type": "code",
   "execution_count": 47,
   "metadata": {},
   "outputs": [],
   "source": [
    "y_pred4 = svm.predict(x_test_scaled)"
   ]
  },
  {
   "cell_type": "markdown",
   "metadata": {},
   "source": [
    "#### Model Score, Prediction vs Actual, Cross Validation Score"
   ]
  },
  {
   "cell_type": "code",
   "execution_count": 48,
   "metadata": {},
   "outputs": [
    {
     "name": "stdout",
     "output_type": "stream",
     "text": [
      "Model Score on Test data is: 0.8571021461980086\n"
     ]
    }
   ],
   "source": [
    "from sklearn.metrics import r2_score\n",
    "print('Model Score on Test data is: {}'.format(r2_score(y_test,y_pred4)))"
   ]
  },
  {
   "cell_type": "code",
   "execution_count": 49,
   "metadata": {},
   "outputs": [
    {
     "name": "stdout",
     "output_type": "stream",
     "text": [
      "Cross Validation Score: 0.8410328018628157\n"
     ]
    }
   ],
   "source": [
    "from sklearn.model_selection import cross_val_score,KFold\n",
    "kfold = KFold(n_splits=5)\n",
    "cross_validation = cross_val_score(svm, x_train_scaled, y_train, cv=kfold)\n",
    "print('Cross Validation Score: {}'.format(cross_validation.mean()))"
   ]
  },
  {
   "cell_type": "code",
   "execution_count": 50,
   "metadata": {},
   "outputs": [
    {
     "data": {
      "text/plain": [
       "array([[13],\n",
       "       [ 5],\n",
       "       [13],\n",
       "       [ 4],\n",
       "       [ 4]], dtype=int64)"
      ]
     },
     "execution_count": 50,
     "metadata": {},
     "output_type": "execute_result"
    }
   ],
   "source": [
    "y_test.head().values"
   ]
  },
  {
   "cell_type": "code",
   "execution_count": 51,
   "metadata": {},
   "outputs": [
    {
     "data": {
      "text/plain": [
       "array([13.06967148,  6.73649231, 14.98899574,  4.07668079,  6.51721379])"
      ]
     },
     "execution_count": 51,
     "metadata": {},
     "output_type": "execute_result"
    }
   ],
   "source": [
    "y_pred4[:5]"
   ]
  },
  {
   "cell_type": "markdown",
   "metadata": {},
   "source": [
    "Conclusion:\n",
    "\n",
    "    ADA-Boost and Gradient-Boost consistently crush the rest of the competition. However, as there is a small margin, \n",
    "    the winning models are both AdaBoost and GradientBoost. The Adaboost,GradientBoost manages to achieve very high accuracy of 88% and on Cross validation the accuracy was 86 %.\n",
    "    SVM and KNN achieves slightly lower than this, with 85% accuracy and on cross validation 84%."
   ]
  },
  {
   "cell_type": "code",
   "execution_count": null,
   "metadata": {},
   "outputs": [],
   "source": []
  }
 ],
 "metadata": {
  "kernelspec": {
   "display_name": "Python 3",
   "language": "python",
   "name": "python3"
  },
  "language_info": {
   "codemirror_mode": {
    "name": "ipython",
    "version": 3
   },
   "file_extension": ".py",
   "mimetype": "text/x-python",
   "name": "python",
   "nbconvert_exporter": "python",
   "pygments_lexer": "ipython3",
   "version": "3.8.5"
  }
 },
 "nbformat": 4,
 "nbformat_minor": 4
}
