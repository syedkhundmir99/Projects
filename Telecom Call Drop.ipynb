{
 "cells": [
  {
   "cell_type": "markdown",
   "metadata": {},
   "source": [
    "# Predicting telecom call drops with AI"
   ]
  },
  {
   "cell_type": "markdown",
   "metadata": {},
   "source": [
    "Problem Statement:\n",
    "\n",
    "    In the telecom domain, a call drop is a situation where a call on a wireless network is disconnected before the caller ends the call. These call drops can happen for several reasons. Inadequate coverage such as lack of tower infrastructure, network traffic, number of calls at a given tower, time of call, weather status can greatly affect the stability of the network. Sometimes, the network capacity is simply not being ramped up at the same pace as usage, which results in overloaded networks.\n",
    "\n",
    "Objective:\n",
    "\n",
    "    We must understand the reasons for the call drops along with the contributing factors that influence the call drops for the selected tower."
   ]
  },
  {
   "cell_type": "code",
   "execution_count": 1,
   "metadata": {},
   "outputs": [],
   "source": [
    "#Importing required libraries\n",
    "import pandas as pd\n",
    "import numpy as np\n",
    "import matplotlib.pyplot as plt\n",
    "%matplotlib inline\n",
    "import seaborn as sns"
   ]
  },
  {
   "cell_type": "code",
   "execution_count": 2,
   "metadata": {},
   "outputs": [],
   "source": [
    "#Loading Datasets\n",
    "weather = pd.read_csv('weather.csv')"
   ]
  },
  {
   "cell_type": "code",
   "execution_count": 3,
   "metadata": {},
   "outputs": [],
   "source": [
    "tower = pd.read_csv('tower.csv')"
   ]
  },
  {
   "cell_type": "code",
   "execution_count": 4,
   "metadata": {},
   "outputs": [
    {
     "data": {
      "text/plain": [
       "(6156, 7)"
      ]
     },
     "execution_count": 4,
     "metadata": {},
     "output_type": "execute_result"
    }
   ],
   "source": [
    "tower.shape"
   ]
  },
  {
   "cell_type": "markdown",
   "metadata": {},
   "source": [
    "## Feature Engineering"
   ]
  },
  {
   "cell_type": "code",
   "execution_count": 5,
   "metadata": {},
   "outputs": [
    {
     "data": {
      "text/plain": [
       "outgoing_site_id         1830\n",
       "Start_Time_MM_DD_YYYY    1830\n",
       "Total Calls              1830\n",
       "Traffic                  1830\n",
       "lat                      1830\n",
       "long                     1830\n",
       "Call Dropped             1830\n",
       "dtype: int64"
      ]
     },
     "execution_count": 5,
     "metadata": {},
     "output_type": "execute_result"
    }
   ],
   "source": [
    "tower.isna().sum()"
   ]
  },
  {
   "cell_type": "code",
   "execution_count": 6,
   "metadata": {},
   "outputs": [],
   "source": [
    "#Converting date into standard format\n",
    "tower['Start_Time_MM_DD_YYYY'] = pd.to_datetime(tower['Start_Time_MM_DD_YYYY'], format='%Y%m%d')"
   ]
  },
  {
   "cell_type": "code",
   "execution_count": 7,
   "metadata": {},
   "outputs": [],
   "source": [
    "weather['Start_Time_MM_DD_YYYY'] = pd.to_datetime(weather['Start_Time_MM_DD_YYYY'],format = '%Y%m%d')"
   ]
  },
  {
   "cell_type": "code",
   "execution_count": 8,
   "metadata": {},
   "outputs": [
    {
     "data": {
      "text/plain": [
       "(6156, 7)"
      ]
     },
     "execution_count": 8,
     "metadata": {},
     "output_type": "execute_result"
    }
   ],
   "source": [
    "tower.shape"
   ]
  },
  {
   "cell_type": "code",
   "execution_count": 9,
   "metadata": {},
   "outputs": [
    {
     "data": {
      "text/plain": [
       "outgoing_site_id         0\n",
       "Start_Time_MM_DD_YYYY    0\n",
       "Start_Time_HH_MM_SS_s    0\n",
       "Weather                  0\n",
       "dtype: int64"
      ]
     },
     "execution_count": 9,
     "metadata": {},
     "output_type": "execute_result"
    }
   ],
   "source": [
    "weather.isna().sum()"
   ]
  },
  {
   "cell_type": "markdown",
   "metadata": {},
   "source": [
    "Note:\n",
    "    There are no Nan values in weather dataset"
   ]
  },
  {
   "cell_type": "code",
   "execution_count": 10,
   "metadata": {},
   "outputs": [
    {
     "data": {
      "text/plain": [
       "Index(['outgoing_site_id', 'Start_Time_MM_DD_YYYY', 'Total Calls', 'Traffic',\n",
       "       'lat', 'long', 'Call Dropped'],\n",
       "      dtype='object')"
      ]
     },
     "execution_count": 10,
     "metadata": {},
     "output_type": "execute_result"
    }
   ],
   "source": [
    "tower.columns"
   ]
  },
  {
   "cell_type": "code",
   "execution_count": 11,
   "metadata": {},
   "outputs": [
    {
     "data": {
      "text/plain": [
       "Index(['outgoing_site_id', 'Start_Time_MM_DD_YYYY', 'Start_Time_HH_MM_SS_s',\n",
       "       'Weather'],\n",
       "      dtype='object')"
      ]
     },
     "execution_count": 11,
     "metadata": {},
     "output_type": "execute_result"
    }
   ],
   "source": [
    "weather.columns"
   ]
  },
  {
   "cell_type": "code",
   "execution_count": 12,
   "metadata": {},
   "outputs": [],
   "source": [
    "#Renaming columns\n",
    "col_names = {'outgoing_site_id':'site_id','Start_Time_MM_DD_YYYY':'YYY-MM_DD'}\n",
    "weather.rename(columns = col_names,inplace = True)"
   ]
  },
  {
   "cell_type": "code",
   "execution_count": 187,
   "metadata": {},
   "outputs": [
    {
     "data": {
      "text/html": [
       "<div>\n",
       "<style scoped>\n",
       "    .dataframe tbody tr th:only-of-type {\n",
       "        vertical-align: middle;\n",
       "    }\n",
       "\n",
       "    .dataframe tbody tr th {\n",
       "        vertical-align: top;\n",
       "    }\n",
       "\n",
       "    .dataframe thead th {\n",
       "        text-align: right;\n",
       "    }\n",
       "</style>\n",
       "<table border=\"1\" class=\"dataframe\">\n",
       "  <thead>\n",
       "    <tr style=\"text-align: right;\">\n",
       "      <th></th>\n",
       "      <th>outgoing_site_id</th>\n",
       "      <th>Start_Time_MM_DD_YYYY</th>\n",
       "      <th>Total Calls</th>\n",
       "      <th>Traffic</th>\n",
       "      <th>lat</th>\n",
       "      <th>long</th>\n",
       "      <th>Call Dropped</th>\n",
       "    </tr>\n",
       "  </thead>\n",
       "  <tbody>\n",
       "    <tr>\n",
       "      <th>0</th>\n",
       "      <td>1717.0</td>\n",
       "      <td>2017-01-01</td>\n",
       "      <td>499.0</td>\n",
       "      <td>Low</td>\n",
       "      <td>40.710567</td>\n",
       "      <td>-74.007338</td>\n",
       "      <td>16.0</td>\n",
       "    </tr>\n",
       "    <tr>\n",
       "      <th>1</th>\n",
       "      <td>1717.0</td>\n",
       "      <td>2017-01-01</td>\n",
       "      <td>554.0</td>\n",
       "      <td>Medium</td>\n",
       "      <td>40.710567</td>\n",
       "      <td>-74.007338</td>\n",
       "      <td>44.0</td>\n",
       "    </tr>\n",
       "    <tr>\n",
       "      <th>2</th>\n",
       "      <td>1717.0</td>\n",
       "      <td>2017-01-01</td>\n",
       "      <td>301.0</td>\n",
       "      <td>Low</td>\n",
       "      <td>40.710567</td>\n",
       "      <td>-74.007338</td>\n",
       "      <td>17.0</td>\n",
       "    </tr>\n",
       "  </tbody>\n",
       "</table>\n",
       "</div>"
      ],
      "text/plain": [
       "   outgoing_site_id Start_Time_MM_DD_YYYY  Total Calls Traffic        lat  \\\n",
       "0            1717.0            2017-01-01        499.0     Low  40.710567   \n",
       "1            1717.0            2017-01-01        554.0  Medium  40.710567   \n",
       "2            1717.0            2017-01-01        301.0     Low  40.710567   \n",
       "\n",
       "        long  Call Dropped  \n",
       "0 -74.007338          16.0  \n",
       "1 -74.007338          44.0  \n",
       "2 -74.007338          17.0  "
      ]
     },
     "execution_count": 187,
     "metadata": {},
     "output_type": "execute_result"
    }
   ],
   "source": [
    "tower.head(3)"
   ]
  },
  {
   "cell_type": "code",
   "execution_count": 14,
   "metadata": {},
   "outputs": [
    {
     "data": {
      "text/html": [
       "<div>\n",
       "<style scoped>\n",
       "    .dataframe tbody tr th:only-of-type {\n",
       "        vertical-align: middle;\n",
       "    }\n",
       "\n",
       "    .dataframe tbody tr th {\n",
       "        vertical-align: top;\n",
       "    }\n",
       "\n",
       "    .dataframe thead th {\n",
       "        text-align: right;\n",
       "    }\n",
       "</style>\n",
       "<table border=\"1\" class=\"dataframe\">\n",
       "  <thead>\n",
       "    <tr style=\"text-align: right;\">\n",
       "      <th></th>\n",
       "      <th>site_id</th>\n",
       "      <th>YYY-MM_DD</th>\n",
       "      <th>Start_Time_HH_MM_SS_s</th>\n",
       "      <th>Weather</th>\n",
       "    </tr>\n",
       "  </thead>\n",
       "  <tbody>\n",
       "    <tr>\n",
       "      <th>0</th>\n",
       "      <td>1717</td>\n",
       "      <td>2017-01-01</td>\n",
       "      <td>00:00 to 4:00</td>\n",
       "      <td>Smoke</td>\n",
       "    </tr>\n",
       "    <tr>\n",
       "      <th>1</th>\n",
       "      <td>1717</td>\n",
       "      <td>2017-01-01</td>\n",
       "      <td>4:00 to 8:00</td>\n",
       "      <td>Shallow Fog</td>\n",
       "    </tr>\n",
       "    <tr>\n",
       "      <th>2</th>\n",
       "      <td>1717</td>\n",
       "      <td>2017-01-01</td>\n",
       "      <td>8:00 to 12:00</td>\n",
       "      <td>Shallow Fog</td>\n",
       "    </tr>\n",
       "  </tbody>\n",
       "</table>\n",
       "</div>"
      ],
      "text/plain": [
       "   site_id  YYY-MM_DD Start_Time_HH_MM_SS_s      Weather\n",
       "0     1717 2017-01-01         00:00 to 4:00        Smoke\n",
       "1     1717 2017-01-01          4:00 to 8:00  Shallow Fog\n",
       "2     1717 2017-01-01         8:00 to 12:00  Shallow Fog"
      ]
     },
     "execution_count": 14,
     "metadata": {},
     "output_type": "execute_result"
    }
   ],
   "source": [
    "weather.head(3)"
   ]
  },
  {
   "cell_type": "code",
   "execution_count": 15,
   "metadata": {},
   "outputs": [],
   "source": [
    "#Concatenating the datasets\n",
    "df = pd.concat([weather,tower],axis = 1)"
   ]
  },
  {
   "cell_type": "code",
   "execution_count": 16,
   "metadata": {},
   "outputs": [
    {
     "data": {
      "text/plain": [
       "Index(['site_id', 'YYY-MM_DD', 'Start_Time_HH_MM_SS_s', 'Weather',\n",
       "       'outgoing_site_id', 'Start_Time_MM_DD_YYYY', 'Total Calls', 'Traffic',\n",
       "       'lat', 'long', 'Call Dropped'],\n",
       "      dtype='object')"
      ]
     },
     "execution_count": 16,
     "metadata": {},
     "output_type": "execute_result"
    }
   ],
   "source": [
    "df.columns"
   ]
  },
  {
   "cell_type": "code",
   "execution_count": 17,
   "metadata": {},
   "outputs": [],
   "source": [
    "df.drop(columns = ['outgoing_site_id', 'Start_Time_MM_DD_YYYY'],inplace = True)"
   ]
  },
  {
   "cell_type": "code",
   "execution_count": 18,
   "metadata": {},
   "outputs": [
    {
     "data": {
      "text/html": [
       "<div>\n",
       "<style scoped>\n",
       "    .dataframe tbody tr th:only-of-type {\n",
       "        vertical-align: middle;\n",
       "    }\n",
       "\n",
       "    .dataframe tbody tr th {\n",
       "        vertical-align: top;\n",
       "    }\n",
       "\n",
       "    .dataframe thead th {\n",
       "        text-align: right;\n",
       "    }\n",
       "</style>\n",
       "<table border=\"1\" class=\"dataframe\">\n",
       "  <thead>\n",
       "    <tr style=\"text-align: right;\">\n",
       "      <th></th>\n",
       "      <th>site_id</th>\n",
       "      <th>YYY-MM_DD</th>\n",
       "      <th>Start_Time_HH_MM_SS_s</th>\n",
       "      <th>Weather</th>\n",
       "      <th>Total Calls</th>\n",
       "      <th>Traffic</th>\n",
       "      <th>lat</th>\n",
       "      <th>long</th>\n",
       "      <th>Call Dropped</th>\n",
       "    </tr>\n",
       "  </thead>\n",
       "  <tbody>\n",
       "    <tr>\n",
       "      <th>0</th>\n",
       "      <td>1717</td>\n",
       "      <td>2017-01-01</td>\n",
       "      <td>00:00 to 4:00</td>\n",
       "      <td>Smoke</td>\n",
       "      <td>499.0</td>\n",
       "      <td>Low</td>\n",
       "      <td>40.710567</td>\n",
       "      <td>-74.007338</td>\n",
       "      <td>16.0</td>\n",
       "    </tr>\n",
       "    <tr>\n",
       "      <th>1</th>\n",
       "      <td>1717</td>\n",
       "      <td>2017-01-01</td>\n",
       "      <td>4:00 to 8:00</td>\n",
       "      <td>Shallow Fog</td>\n",
       "      <td>554.0</td>\n",
       "      <td>Medium</td>\n",
       "      <td>40.710567</td>\n",
       "      <td>-74.007338</td>\n",
       "      <td>44.0</td>\n",
       "    </tr>\n",
       "    <tr>\n",
       "      <th>2</th>\n",
       "      <td>1717</td>\n",
       "      <td>2017-01-01</td>\n",
       "      <td>8:00 to 12:00</td>\n",
       "      <td>Shallow Fog</td>\n",
       "      <td>301.0</td>\n",
       "      <td>Low</td>\n",
       "      <td>40.710567</td>\n",
       "      <td>-74.007338</td>\n",
       "      <td>17.0</td>\n",
       "    </tr>\n",
       "  </tbody>\n",
       "</table>\n",
       "</div>"
      ],
      "text/plain": [
       "   site_id  YYY-MM_DD Start_Time_HH_MM_SS_s      Weather  Total Calls Traffic  \\\n",
       "0     1717 2017-01-01         00:00 to 4:00        Smoke        499.0     Low   \n",
       "1     1717 2017-01-01          4:00 to 8:00  Shallow Fog        554.0  Medium   \n",
       "2     1717 2017-01-01         8:00 to 12:00  Shallow Fog        301.0     Low   \n",
       "\n",
       "         lat       long  Call Dropped  \n",
       "0  40.710567 -74.007338          16.0  \n",
       "1  40.710567 -74.007338          44.0  \n",
       "2  40.710567 -74.007338          17.0  "
      ]
     },
     "execution_count": 18,
     "metadata": {},
     "output_type": "execute_result"
    }
   ],
   "source": [
    "df.head(3)"
   ]
  },
  {
   "cell_type": "code",
   "execution_count": 19,
   "metadata": {},
   "outputs": [
    {
     "data": {
      "text/plain": [
       "(6156, 9)"
      ]
     },
     "execution_count": 19,
     "metadata": {},
     "output_type": "execute_result"
    }
   ],
   "source": [
    "df.shape"
   ]
  },
  {
   "cell_type": "code",
   "execution_count": 20,
   "metadata": {},
   "outputs": [
    {
     "data": {
      "text/plain": [
       "site_id                     0\n",
       "YYY-MM_DD                   0\n",
       "Start_Time_HH_MM_SS_s       0\n",
       "Weather                     0\n",
       "Total Calls              1830\n",
       "Traffic                  1830\n",
       "lat                      1830\n",
       "long                     1830\n",
       "Call Dropped             1830\n",
       "dtype: int64"
      ]
     },
     "execution_count": 20,
     "metadata": {},
     "output_type": "execute_result"
    }
   ],
   "source": [
    "df.isna().sum()"
   ]
  },
  {
   "cell_type": "code",
   "execution_count": 21,
   "metadata": {},
   "outputs": [
    {
     "data": {
      "text/html": [
       "<div>\n",
       "<style scoped>\n",
       "    .dataframe tbody tr th:only-of-type {\n",
       "        vertical-align: middle;\n",
       "    }\n",
       "\n",
       "    .dataframe tbody tr th {\n",
       "        vertical-align: top;\n",
       "    }\n",
       "\n",
       "    .dataframe thead th {\n",
       "        text-align: right;\n",
       "    }\n",
       "</style>\n",
       "<table border=\"1\" class=\"dataframe\">\n",
       "  <thead>\n",
       "    <tr style=\"text-align: right;\">\n",
       "      <th></th>\n",
       "      <th>site_id</th>\n",
       "      <th>YYY-MM_DD</th>\n",
       "      <th>Start_Time_HH_MM_SS_s</th>\n",
       "      <th>Weather</th>\n",
       "      <th>Total Calls</th>\n",
       "      <th>Traffic</th>\n",
       "      <th>lat</th>\n",
       "      <th>long</th>\n",
       "      <th>Call Dropped</th>\n",
       "    </tr>\n",
       "  </thead>\n",
       "  <tbody>\n",
       "    <tr>\n",
       "      <th>99</th>\n",
       "      <td>1717</td>\n",
       "      <td>2017-01-19</td>\n",
       "      <td>16:00 to 20:00</td>\n",
       "      <td>Fog</td>\n",
       "      <td>NaN</td>\n",
       "      <td>NaN</td>\n",
       "      <td>NaN</td>\n",
       "      <td>NaN</td>\n",
       "      <td>NaN</td>\n",
       "    </tr>\n",
       "    <tr>\n",
       "      <th>100</th>\n",
       "      <td>1717</td>\n",
       "      <td>2017-01-19</td>\n",
       "      <td>20:00 to 23:59</td>\n",
       "      <td>Fog</td>\n",
       "      <td>NaN</td>\n",
       "      <td>NaN</td>\n",
       "      <td>NaN</td>\n",
       "      <td>NaN</td>\n",
       "      <td>NaN</td>\n",
       "    </tr>\n",
       "    <tr>\n",
       "      <th>101</th>\n",
       "      <td>1717</td>\n",
       "      <td>2017-01-20</td>\n",
       "      <td>00:00 to 4:00</td>\n",
       "      <td>Smoke</td>\n",
       "      <td>NaN</td>\n",
       "      <td>NaN</td>\n",
       "      <td>NaN</td>\n",
       "      <td>NaN</td>\n",
       "      <td>NaN</td>\n",
       "    </tr>\n",
       "    <tr>\n",
       "      <th>102</th>\n",
       "      <td>1717</td>\n",
       "      <td>2017-01-20</td>\n",
       "      <td>4:00 to 8:00</td>\n",
       "      <td>Shallow Fog</td>\n",
       "      <td>NaN</td>\n",
       "      <td>NaN</td>\n",
       "      <td>NaN</td>\n",
       "      <td>NaN</td>\n",
       "      <td>NaN</td>\n",
       "    </tr>\n",
       "    <tr>\n",
       "      <th>103</th>\n",
       "      <td>1717</td>\n",
       "      <td>2017-01-20</td>\n",
       "      <td>8:00 to 12:00</td>\n",
       "      <td>Shallow Fog</td>\n",
       "      <td>NaN</td>\n",
       "      <td>NaN</td>\n",
       "      <td>NaN</td>\n",
       "      <td>NaN</td>\n",
       "      <td>NaN</td>\n",
       "    </tr>\n",
       "    <tr>\n",
       "      <th>...</th>\n",
       "      <td>...</td>\n",
       "      <td>...</td>\n",
       "      <td>...</td>\n",
       "      <td>...</td>\n",
       "      <td>...</td>\n",
       "      <td>...</td>\n",
       "      <td>...</td>\n",
       "      <td>...</td>\n",
       "      <td>...</td>\n",
       "    </tr>\n",
       "    <tr>\n",
       "      <th>2047</th>\n",
       "      <td>3066</td>\n",
       "      <td>2017-01-30</td>\n",
       "      <td>20:00 to 23:59</td>\n",
       "      <td>Haze</td>\n",
       "      <td>NaN</td>\n",
       "      <td>NaN</td>\n",
       "      <td>NaN</td>\n",
       "      <td>NaN</td>\n",
       "      <td>NaN</td>\n",
       "    </tr>\n",
       "    <tr>\n",
       "      <th>2048</th>\n",
       "      <td>3066</td>\n",
       "      <td>2017-01-31</td>\n",
       "      <td>00:00 to 4:00</td>\n",
       "      <td>Light Rain</td>\n",
       "      <td>NaN</td>\n",
       "      <td>NaN</td>\n",
       "      <td>NaN</td>\n",
       "      <td>NaN</td>\n",
       "      <td>NaN</td>\n",
       "    </tr>\n",
       "    <tr>\n",
       "      <th>2049</th>\n",
       "      <td>3066</td>\n",
       "      <td>2017-01-31</td>\n",
       "      <td>4:00 to 8:00</td>\n",
       "      <td>Light Drizzle</td>\n",
       "      <td>NaN</td>\n",
       "      <td>NaN</td>\n",
       "      <td>NaN</td>\n",
       "      <td>NaN</td>\n",
       "      <td>NaN</td>\n",
       "    </tr>\n",
       "    <tr>\n",
       "      <th>2050</th>\n",
       "      <td>3066</td>\n",
       "      <td>2017-01-31</td>\n",
       "      <td>8:00 to 12:00</td>\n",
       "      <td>Drizzle</td>\n",
       "      <td>NaN</td>\n",
       "      <td>NaN</td>\n",
       "      <td>NaN</td>\n",
       "      <td>NaN</td>\n",
       "      <td>NaN</td>\n",
       "    </tr>\n",
       "    <tr>\n",
       "      <th>2051</th>\n",
       "      <td>3066</td>\n",
       "      <td>2017-01-31</td>\n",
       "      <td>12:00 to 16:00</td>\n",
       "      <td>Drizzle</td>\n",
       "      <td>NaN</td>\n",
       "      <td>NaN</td>\n",
       "      <td>NaN</td>\n",
       "      <td>NaN</td>\n",
       "      <td>NaN</td>\n",
       "    </tr>\n",
       "  </tbody>\n",
       "</table>\n",
       "<p>1830 rows × 9 columns</p>\n",
       "</div>"
      ],
      "text/plain": [
       "      site_id  YYY-MM_DD Start_Time_HH_MM_SS_s        Weather  Total Calls  \\\n",
       "99       1717 2017-01-19        16:00 to 20:00            Fog          NaN   \n",
       "100      1717 2017-01-19        20:00 to 23:59            Fog          NaN   \n",
       "101      1717 2017-01-20         00:00 to 4:00          Smoke          NaN   \n",
       "102      1717 2017-01-20          4:00 to 8:00    Shallow Fog          NaN   \n",
       "103      1717 2017-01-20         8:00 to 12:00    Shallow Fog          NaN   \n",
       "...       ...        ...                   ...            ...          ...   \n",
       "2047     3066 2017-01-30        20:00 to 23:59           Haze          NaN   \n",
       "2048     3066 2017-01-31         00:00 to 4:00     Light Rain          NaN   \n",
       "2049     3066 2017-01-31          4:00 to 8:00  Light Drizzle          NaN   \n",
       "2050     3066 2017-01-31         8:00 to 12:00        Drizzle          NaN   \n",
       "2051     3066 2017-01-31        12:00 to 16:00        Drizzle          NaN   \n",
       "\n",
       "     Traffic  lat  long  Call Dropped  \n",
       "99       NaN  NaN   NaN           NaN  \n",
       "100      NaN  NaN   NaN           NaN  \n",
       "101      NaN  NaN   NaN           NaN  \n",
       "102      NaN  NaN   NaN           NaN  \n",
       "103      NaN  NaN   NaN           NaN  \n",
       "...      ...  ...   ...           ...  \n",
       "2047     NaN  NaN   NaN           NaN  \n",
       "2048     NaN  NaN   NaN           NaN  \n",
       "2049     NaN  NaN   NaN           NaN  \n",
       "2050     NaN  NaN   NaN           NaN  \n",
       "2051     NaN  NaN   NaN           NaN  \n",
       "\n",
       "[1830 rows x 9 columns]"
      ]
     },
     "execution_count": 21,
     "metadata": {},
     "output_type": "execute_result"
    }
   ],
   "source": [
    "#Checking for Nan values\n",
    "df[df['Call Dropped'].isna()]"
   ]
  },
  {
   "cell_type": "markdown",
   "metadata": {},
   "source": [
    "Note:\n",
    "    As you can see the 1830 records with all having Nan values so its better we drop them"
   ]
  },
  {
   "cell_type": "code",
   "execution_count": 22,
   "metadata": {},
   "outputs": [],
   "source": [
    "df.dropna(axis = 0,inplace = True)"
   ]
  },
  {
   "cell_type": "code",
   "execution_count": 23,
   "metadata": {},
   "outputs": [
    {
     "data": {
      "text/plain": [
       "site_id                  0\n",
       "YYY-MM_DD                0\n",
       "Start_Time_HH_MM_SS_s    0\n",
       "Weather                  0\n",
       "Total Calls              0\n",
       "Traffic                  0\n",
       "lat                      0\n",
       "long                     0\n",
       "Call Dropped             0\n",
       "dtype: int64"
      ]
     },
     "execution_count": 23,
     "metadata": {},
     "output_type": "execute_result"
    }
   ],
   "source": [
    "df.isna().sum()"
   ]
  },
  {
   "cell_type": "code",
   "execution_count": 24,
   "metadata": {},
   "outputs": [
    {
     "name": "stdout",
     "output_type": "stream",
     "text": [
      "<class 'pandas.core.frame.DataFrame'>\n",
      "Int64Index: 4326 entries, 0 to 6155\n",
      "Data columns (total 9 columns):\n",
      " #   Column                 Non-Null Count  Dtype         \n",
      "---  ------                 --------------  -----         \n",
      " 0   site_id                4326 non-null   int64         \n",
      " 1   YYY-MM_DD              4326 non-null   datetime64[ns]\n",
      " 2   Start_Time_HH_MM_SS_s  4326 non-null   object        \n",
      " 3   Weather                4326 non-null   object        \n",
      " 4   Total Calls            4326 non-null   float64       \n",
      " 5   Traffic                4326 non-null   object        \n",
      " 6   lat                    4326 non-null   float64       \n",
      " 7   long                   4326 non-null   float64       \n",
      " 8   Call Dropped           4326 non-null   float64       \n",
      "dtypes: datetime64[ns](1), float64(4), int64(1), object(3)\n",
      "memory usage: 287.3+ KB\n"
     ]
    }
   ],
   "source": [
    "df.info()"
   ]
  },
  {
   "cell_type": "code",
   "execution_count": 25,
   "metadata": {},
   "outputs": [
    {
     "data": {
      "text/html": [
       "<div>\n",
       "<style scoped>\n",
       "    .dataframe tbody tr th:only-of-type {\n",
       "        vertical-align: middle;\n",
       "    }\n",
       "\n",
       "    .dataframe tbody tr th {\n",
       "        vertical-align: top;\n",
       "    }\n",
       "\n",
       "    .dataframe thead th {\n",
       "        text-align: right;\n",
       "    }\n",
       "</style>\n",
       "<table border=\"1\" class=\"dataframe\">\n",
       "  <thead>\n",
       "    <tr style=\"text-align: right;\">\n",
       "      <th></th>\n",
       "      <th>site_id</th>\n",
       "      <th>YYY-MM_DD</th>\n",
       "      <th>Start_Time_HH_MM_SS_s</th>\n",
       "      <th>Weather</th>\n",
       "      <th>Total Calls</th>\n",
       "      <th>Traffic</th>\n",
       "      <th>lat</th>\n",
       "      <th>long</th>\n",
       "      <th>Call Dropped</th>\n",
       "    </tr>\n",
       "  </thead>\n",
       "  <tbody>\n",
       "    <tr>\n",
       "      <th>0</th>\n",
       "      <td>1717</td>\n",
       "      <td>2017-01-01</td>\n",
       "      <td>00:00 to 4:00</td>\n",
       "      <td>Smoke</td>\n",
       "      <td>499.0</td>\n",
       "      <td>Low</td>\n",
       "      <td>40.710567</td>\n",
       "      <td>-74.007338</td>\n",
       "      <td>16.0</td>\n",
       "    </tr>\n",
       "    <tr>\n",
       "      <th>1</th>\n",
       "      <td>1717</td>\n",
       "      <td>2017-01-01</td>\n",
       "      <td>4:00 to 8:00</td>\n",
       "      <td>Shallow Fog</td>\n",
       "      <td>554.0</td>\n",
       "      <td>Medium</td>\n",
       "      <td>40.710567</td>\n",
       "      <td>-74.007338</td>\n",
       "      <td>44.0</td>\n",
       "    </tr>\n",
       "    <tr>\n",
       "      <th>2</th>\n",
       "      <td>1717</td>\n",
       "      <td>2017-01-01</td>\n",
       "      <td>8:00 to 12:00</td>\n",
       "      <td>Shallow Fog</td>\n",
       "      <td>301.0</td>\n",
       "      <td>Low</td>\n",
       "      <td>40.710567</td>\n",
       "      <td>-74.007338</td>\n",
       "      <td>17.0</td>\n",
       "    </tr>\n",
       "  </tbody>\n",
       "</table>\n",
       "</div>"
      ],
      "text/plain": [
       "   site_id  YYY-MM_DD Start_Time_HH_MM_SS_s      Weather  Total Calls Traffic  \\\n",
       "0     1717 2017-01-01         00:00 to 4:00        Smoke        499.0     Low   \n",
       "1     1717 2017-01-01          4:00 to 8:00  Shallow Fog        554.0  Medium   \n",
       "2     1717 2017-01-01         8:00 to 12:00  Shallow Fog        301.0     Low   \n",
       "\n",
       "         lat       long  Call Dropped  \n",
       "0  40.710567 -74.007338          16.0  \n",
       "1  40.710567 -74.007338          44.0  \n",
       "2  40.710567 -74.007338          17.0  "
      ]
     },
     "execution_count": 25,
     "metadata": {},
     "output_type": "execute_result"
    }
   ],
   "source": [
    "df.head(3)"
   ]
  },
  {
   "cell_type": "code",
   "execution_count": 26,
   "metadata": {},
   "outputs": [
    {
     "data": {
      "text/plain": [
       "array(['Smoke', 'Shallow Fog', 'Fog', 'Partly Cloudy', 'Mostly Cloudy',\n",
       "       'Volcanic Ash', 'Scattered Clouds', 'Clear', 'Haze', 'Rain',\n",
       "       'Light Thunderstorms and Rain', 'Light Rain', 'Light Drizzle',\n",
       "       'Drizzle'], dtype=object)"
      ]
     },
     "execution_count": 26,
     "metadata": {},
     "output_type": "execute_result"
    }
   ],
   "source": [
    "df['Weather'].unique() ## Since this feature has categories we will apply one hot encoding"
   ]
  },
  {
   "cell_type": "code",
   "execution_count": 27,
   "metadata": {},
   "outputs": [
    {
     "data": {
      "text/plain": [
       "array(['Low', 'Medium', 'High'], dtype=object)"
      ]
     },
     "execution_count": 27,
     "metadata": {},
     "output_type": "execute_result"
    }
   ],
   "source": [
    "df['Traffic'].unique()  ## Since this feature has an order we will give values which has a specific rank like 0,1,2,3"
   ]
  },
  {
   "cell_type": "code",
   "execution_count": 28,
   "metadata": {},
   "outputs": [],
   "source": [
    "Weather_n = pd.get_dummies(df['Weather'],drop_first = True)"
   ]
  },
  {
   "cell_type": "code",
   "execution_count": 29,
   "metadata": {},
   "outputs": [],
   "source": [
    "traffic_dict = {'Low':0,'Medium':1,'High':2}\n",
    "df['Traffic'] = df['Traffic'].map(traffic_dict)"
   ]
  },
  {
   "cell_type": "code",
   "execution_count": 30,
   "metadata": {},
   "outputs": [
    {
     "data": {
      "text/plain": [
       "array(['00:00 to 4:00', '4:00 to 8:00', '8:00 to 12:00', '12:00 to 16:00',\n",
       "       '16:00 to 20:00', '20:00 to 23:59'], dtype=object)"
      ]
     },
     "execution_count": 30,
     "metadata": {},
     "output_type": "execute_result"
    }
   ],
   "source": [
    "df['Start_Time_HH_MM_SS_s'].unique()"
   ]
  },
  {
   "cell_type": "code",
   "execution_count": 31,
   "metadata": {},
   "outputs": [],
   "source": [
    "Time_n = pd.get_dummies(df['Start_Time_HH_MM_SS_s'],drop_first = True)"
   ]
  },
  {
   "cell_type": "code",
   "execution_count": 32,
   "metadata": {},
   "outputs": [],
   "source": [
    "df2 = pd.concat([df,Weather_n,Time_n],axis = 1)"
   ]
  },
  {
   "cell_type": "code",
   "execution_count": 33,
   "metadata": {},
   "outputs": [
    {
     "data": {
      "text/plain": [
       "Index(['site_id', 'YYY-MM_DD', 'Start_Time_HH_MM_SS_s', 'Weather',\n",
       "       'Total Calls', 'Traffic', 'lat', 'long', 'Call Dropped', 'Drizzle',\n",
       "       'Fog', 'Haze', 'Light Drizzle', 'Light Rain',\n",
       "       'Light Thunderstorms and Rain', 'Mostly Cloudy', 'Partly Cloudy',\n",
       "       'Rain', 'Scattered Clouds', 'Shallow Fog', 'Smoke', 'Volcanic Ash',\n",
       "       '12:00 to 16:00', '16:00 to 20:00', '20:00 to 23:59', '4:00 to 8:00',\n",
       "       '8:00 to 12:00'],\n",
       "      dtype='object')"
      ]
     },
     "execution_count": 33,
     "metadata": {},
     "output_type": "execute_result"
    }
   ],
   "source": [
    "df2.columns"
   ]
  },
  {
   "cell_type": "code",
   "execution_count": 34,
   "metadata": {},
   "outputs": [],
   "source": [
    "df3 = df2.drop(columns = ['Weather','Start_Time_HH_MM_SS_s','YYY-MM_DD'])"
   ]
  },
  {
   "cell_type": "code",
   "execution_count": 45,
   "metadata": {},
   "outputs": [
    {
     "data": {
      "text/html": [
       "<div>\n",
       "<style scoped>\n",
       "    .dataframe tbody tr th:only-of-type {\n",
       "        vertical-align: middle;\n",
       "    }\n",
       "\n",
       "    .dataframe tbody tr th {\n",
       "        vertical-align: top;\n",
       "    }\n",
       "\n",
       "    .dataframe thead th {\n",
       "        text-align: right;\n",
       "    }\n",
       "</style>\n",
       "<table border=\"1\" class=\"dataframe\">\n",
       "  <thead>\n",
       "    <tr style=\"text-align: right;\">\n",
       "      <th></th>\n",
       "      <th>site_id</th>\n",
       "      <th>Total Calls</th>\n",
       "      <th>Traffic</th>\n",
       "      <th>lat</th>\n",
       "      <th>long</th>\n",
       "      <th>Call Dropped</th>\n",
       "      <th>Drizzle</th>\n",
       "      <th>Fog</th>\n",
       "      <th>Haze</th>\n",
       "      <th>Light Drizzle</th>\n",
       "      <th>...</th>\n",
       "      <th>Rain</th>\n",
       "      <th>Scattered Clouds</th>\n",
       "      <th>Shallow Fog</th>\n",
       "      <th>Smoke</th>\n",
       "      <th>Volcanic Ash</th>\n",
       "      <th>12:00 to 16:00</th>\n",
       "      <th>16:00 to 20:00</th>\n",
       "      <th>20:00 to 23:59</th>\n",
       "      <th>4:00 to 8:00</th>\n",
       "      <th>8:00 to 12:00</th>\n",
       "    </tr>\n",
       "  </thead>\n",
       "  <tbody>\n",
       "    <tr>\n",
       "      <th>0</th>\n",
       "      <td>1717</td>\n",
       "      <td>499.0</td>\n",
       "      <td>0</td>\n",
       "      <td>40.710567</td>\n",
       "      <td>-74.007338</td>\n",
       "      <td>16.0</td>\n",
       "      <td>0</td>\n",
       "      <td>0</td>\n",
       "      <td>0</td>\n",
       "      <td>0</td>\n",
       "      <td>...</td>\n",
       "      <td>0</td>\n",
       "      <td>0</td>\n",
       "      <td>0</td>\n",
       "      <td>1</td>\n",
       "      <td>0</td>\n",
       "      <td>0</td>\n",
       "      <td>0</td>\n",
       "      <td>0</td>\n",
       "      <td>0</td>\n",
       "      <td>0</td>\n",
       "    </tr>\n",
       "    <tr>\n",
       "      <th>1</th>\n",
       "      <td>1717</td>\n",
       "      <td>554.0</td>\n",
       "      <td>1</td>\n",
       "      <td>40.710567</td>\n",
       "      <td>-74.007338</td>\n",
       "      <td>44.0</td>\n",
       "      <td>0</td>\n",
       "      <td>0</td>\n",
       "      <td>0</td>\n",
       "      <td>0</td>\n",
       "      <td>...</td>\n",
       "      <td>0</td>\n",
       "      <td>0</td>\n",
       "      <td>1</td>\n",
       "      <td>0</td>\n",
       "      <td>0</td>\n",
       "      <td>0</td>\n",
       "      <td>0</td>\n",
       "      <td>0</td>\n",
       "      <td>1</td>\n",
       "      <td>0</td>\n",
       "    </tr>\n",
       "    <tr>\n",
       "      <th>2</th>\n",
       "      <td>1717</td>\n",
       "      <td>301.0</td>\n",
       "      <td>0</td>\n",
       "      <td>40.710567</td>\n",
       "      <td>-74.007338</td>\n",
       "      <td>17.0</td>\n",
       "      <td>0</td>\n",
       "      <td>0</td>\n",
       "      <td>0</td>\n",
       "      <td>0</td>\n",
       "      <td>...</td>\n",
       "      <td>0</td>\n",
       "      <td>0</td>\n",
       "      <td>1</td>\n",
       "      <td>0</td>\n",
       "      <td>0</td>\n",
       "      <td>0</td>\n",
       "      <td>0</td>\n",
       "      <td>0</td>\n",
       "      <td>0</td>\n",
       "      <td>1</td>\n",
       "    </tr>\n",
       "  </tbody>\n",
       "</table>\n",
       "<p>3 rows × 24 columns</p>\n",
       "</div>"
      ],
      "text/plain": [
       "   site_id  Total Calls  Traffic        lat       long  Call Dropped  Drizzle  \\\n",
       "0     1717        499.0        0  40.710567 -74.007338          16.0        0   \n",
       "1     1717        554.0        1  40.710567 -74.007338          44.0        0   \n",
       "2     1717        301.0        0  40.710567 -74.007338          17.0        0   \n",
       "\n",
       "   Fog  Haze  Light Drizzle  ...  Rain  Scattered Clouds  Shallow Fog  Smoke  \\\n",
       "0    0     0              0  ...     0                 0            0      1   \n",
       "1    0     0              0  ...     0                 0            1      0   \n",
       "2    0     0              0  ...     0                 0            1      0   \n",
       "\n",
       "   Volcanic Ash  12:00 to 16:00  16:00 to 20:00  20:00 to 23:59  4:00 to 8:00  \\\n",
       "0             0               0               0               0             0   \n",
       "1             0               0               0               0             1   \n",
       "2             0               0               0               0             0   \n",
       "\n",
       "   8:00 to 12:00  \n",
       "0              0  \n",
       "1              0  \n",
       "2              1  \n",
       "\n",
       "[3 rows x 24 columns]"
      ]
     },
     "execution_count": 45,
     "metadata": {},
     "output_type": "execute_result"
    }
   ],
   "source": [
    "df3.head(3)"
   ]
  },
  {
   "cell_type": "markdown",
   "metadata": {},
   "source": [
    "## Exploratory Data Analysis and Visualizations"
   ]
  },
  {
   "cell_type": "code",
   "execution_count": 142,
   "metadata": {},
   "outputs": [
    {
     "data": {
      "text/plain": [
       "Text(0.5, 1.0, 'Total Amount of Traffic on each Tower')"
      ]
     },
     "execution_count": 142,
     "metadata": {},
     "output_type": "execute_result"
    },
    {
     "data": {
      "image/png": "[encoded data removed]",
      "text/plain": [
       "<Figure size 432x288 with 1 Axes>"
      ]
     },
     "metadata": {
      "needs_background": "light"
     },
     "output_type": "display_data"
    }
   ],
   "source": [
    "df3.groupby('site_id')['Traffic'].sum().plot(kind = 'barh')\n",
    "plt.xlabel('Traffic')\n",
    "plt.ylabel('Tower ID')\n",
    "plt.title('Total Amount of Traffic on each Tower')"
   ]
  },
  {
   "cell_type": "code",
   "execution_count": 127,
   "metadata": {},
   "outputs": [
    {
     "data": {
      "text/plain": [
       "Text(0.5, 1.0, 'Percentage of Total calls by from each Tower')"
      ]
     },
     "execution_count": 127,
     "metadata": {},
     "output_type": "execute_result"
    },
    {
     "data": {
      "image/png": "[encoded data removed]",
      "text/plain": [
       "<Figure size 432x288 with 1 Axes>"
      ]
     },
     "metadata": {},
     "output_type": "display_data"
    }
   ],
   "source": [
    "df3.groupby('site_id')['Total Calls'].sum().plot(kind = 'pie',autopct='%1.2f%%')\n",
    "plt.title('Percentage of Total calls by from each Tower')"
   ]
  },
  {
   "cell_type": "code",
   "execution_count": 128,
   "metadata": {},
   "outputs": [
    {
     "data": {
      "text/plain": [
       "Text(0.5, 1.0, 'Percentage of Calls dropped from each Tower')"
      ]
     },
     "execution_count": 128,
     "metadata": {},
     "output_type": "execute_result"
    },
    {
     "data": {
      "image/png": "[encoded data removed]",
      "text/plain": [
       "<Figure size 432x288 with 1 Axes>"
      ]
     },
     "metadata": {},
     "output_type": "display_data"
    }
   ],
   "source": [
    "df3.groupby('site_id')['Call Dropped'].sum().plot(kind = 'pie',autopct='%1.2f%%')\n",
    "plt.title('Percentage of Calls dropped from each Tower')"
   ]
  },
  {
   "cell_type": "code",
   "execution_count": 188,
   "metadata": {},
   "outputs": [
    {
     "data": {
      "text/plain": [
       "<AxesSubplot:xlabel='Weather', ylabel='Call Dropped'>"
      ]
     },
     "execution_count": 188,
     "metadata": {},
     "output_type": "execute_result"
    },
    {
     "data": {
      "image/png": "[encoded data removed]",
      "text/plain": [
       "<Figure size 2520x720 with 1 Axes>"
      ]
     },
     "metadata": {
      "needs_background": "light"
     },
     "output_type": "display_data"
    }
   ],
   "source": [
    "plt.figure(figsize= (35,10))\n",
    "sns.barplot(x = df['Weather'],y = df['Call Dropped'])"
   ]
  },
  {
   "cell_type": "code",
   "execution_count": 184,
   "metadata": {},
   "outputs": [
    {
     "data": {
      "text/plain": [
       "<matplotlib.legend.Legend at 0x1d3f2e38>"
      ]
     },
     "execution_count": 184,
     "metadata": {},
     "output_type": "execute_result"
    },
    {
     "data": {
      "image/png": "[encoded data removed]",
      "text/plain": [
       "<Figure size 1440x360 with 1 Axes>"
      ]
     },
     "metadata": {
      "needs_background": "light"
     },
     "output_type": "display_data"
    }
   ],
   "source": [
    "call_drop_timeseries = pd.DataFrame(df.groupby('YYY-MM_DD')['Call Dropped'].sum())\n",
    "# totalcalls_timeseries = pd.DataFrame(df.groupby('YYY-MM_DD')['Total Calls'].sum())\n",
    "\n",
    "fig = plt.figure(figsize = (20,5))\n",
    "ax = fig.add_subplot(111)\n",
    "ax.plot(call_drop_timeseries.index,call_drop_timeseries.values,'-',label = 'Call Dropped')\n",
    "# ax.plot(totalcalls_timeseries.index,totalcalls_timeseries.values,'-',label = 'Total Calls')\n",
    "plt.legend()"
   ]
  },
  {
   "cell_type": "markdown",
   "metadata": {},
   "source": [
    "Note:\n",
    "    \n",
    "    From the above visuals we can understand that the towers which has huge traffic has experienced abundant amount of call drops.When we even observe weather feature, we understand when there is Rain, light rain, cloudy weather there are heavy call drops.The company has experienced high call drops, which probably hit more than 6000 drops that too many times in a month. "
   ]
  },
  {
   "cell_type": "markdown",
   "metadata": {},
   "source": [
    "## Model Training"
   ]
  },
  {
   "cell_type": "code",
   "execution_count": 36,
   "metadata": {},
   "outputs": [],
   "source": [
    "x = df3.drop(columns = ['Call Dropped'])\n",
    "y = df3[['Call Dropped']]"
   ]
  },
  {
   "cell_type": "code",
   "execution_count": 37,
   "metadata": {},
   "outputs": [],
   "source": [
    "from sklearn.model_selection import train_test_split\n",
    "x_train, x_test, y_train, y_test = train_test_split(x,y,test_size = 0.25,random_state = 0)"
   ]
  },
  {
   "cell_type": "markdown",
   "metadata": {},
   "source": [
    "### Model-1 Decision Tree Regressor"
   ]
  },
  {
   "cell_type": "code",
   "execution_count": 38,
   "metadata": {},
   "outputs": [
    {
     "data": {
      "text/plain": [
       "DecisionTreeRegressor()"
      ]
     },
     "execution_count": 38,
     "metadata": {},
     "output_type": "execute_result"
    }
   ],
   "source": [
    "#Model-1 Decision Tree Regressor\n",
    "from sklearn.tree import DecisionTreeRegressor\n",
    "decision_reg = DecisionTreeRegressor(criterion = 'mse')\n",
    "decision_reg.fit(x_train,y_train)"
   ]
  },
  {
   "cell_type": "code",
   "execution_count": 39,
   "metadata": {},
   "outputs": [],
   "source": [
    "y_pred1 = decision_reg.predict(x_test)"
   ]
  },
  {
   "cell_type": "markdown",
   "metadata": {},
   "source": [
    "#### Model Score"
   ]
  },
  {
   "cell_type": "code",
   "execution_count": 40,
   "metadata": {},
   "outputs": [
    {
     "name": "stdout",
     "output_type": "stream",
     "text": [
      "Model Score is 0.9813137428643093\n"
     ]
    }
   ],
   "source": [
    "from sklearn.metrics import r2_score\n",
    "print(r\"Model Score is {}\".format(r2_score(y_test,y_pred1)))"
   ]
  },
  {
   "cell_type": "markdown",
   "metadata": {},
   "source": [
    "#### Feature Importance"
   ]
  },
  {
   "cell_type": "code",
   "execution_count": 42,
   "metadata": {},
   "outputs": [
    {
     "data": {
      "text/plain": [
       "array([1.00267511e-02, 9.44450055e-02, 8.31474596e-01, 1.15340935e-02,\n",
       "       1.01577062e-02, 1.19986970e-03, 4.62712949e-03, 1.47092582e-03,\n",
       "       9.21531520e-04, 1.24140956e-03, 3.39283307e-04, 7.97793239e-04,\n",
       "       1.16666825e-03, 2.79440515e-04, 2.31079771e-04, 3.63335079e-03,\n",
       "       3.36949709e-03, 1.07033533e-03, 5.89844930e-03, 3.35875674e-03,\n",
       "       6.54802329e-03, 2.81271731e-03, 3.39558642e-03])"
      ]
     },
     "execution_count": 42,
     "metadata": {},
     "output_type": "execute_result"
    }
   ],
   "source": [
    "#Feature Importance\n",
    "decision_reg.feature_importances_"
   ]
  },
  {
   "cell_type": "markdown",
   "metadata": {},
   "source": [
    "#### Cross Validation"
   ]
  },
  {
   "cell_type": "code",
   "execution_count": 43,
   "metadata": {},
   "outputs": [],
   "source": [
    "#Cross Validation\n",
    "from sklearn.model_selection import cross_val_score,KFold\n",
    "kfold = KFold(n_splits=10)\n",
    "cross_validation = cross_val_score(decision_reg, x, y, cv=kfold)"
   ]
  },
  {
   "cell_type": "code",
   "execution_count": 44,
   "metadata": {},
   "outputs": [
    {
     "name": "stdout",
     "output_type": "stream",
     "text": [
      "Cross Validation Score is 0.9834203209470012\n"
     ]
    }
   ],
   "source": [
    "print(\"Cross Validation Score is {}\".format(np.mean(cross_validation)))"
   ]
  },
  {
   "cell_type": "markdown",
   "metadata": {},
   "source": [
    "### Model-2 KNN Regressor"
   ]
  },
  {
   "cell_type": "code",
   "execution_count": 233,
   "metadata": {},
   "outputs": [
    {
     "data": {
      "text/plain": [
       "KNeighborsRegressor(n_neighbors=3)"
      ]
     },
     "execution_count": 233,
     "metadata": {},
     "output_type": "execute_result"
    }
   ],
   "source": [
    "from sklearn.neighbors import KNeighborsRegressor\n",
    "knn_reg = KNeighborsRegressor(n_neighbors = 3)\n",
    "knn_reg.fit(x_train,y_train)"
   ]
  },
  {
   "cell_type": "code",
   "execution_count": 236,
   "metadata": {},
   "outputs": [],
   "source": [
    "y_pred2 = knn_reg.predict(x_test)"
   ]
  },
  {
   "cell_type": "markdown",
   "metadata": {},
   "source": [
    "#### Model Score"
   ]
  },
  {
   "cell_type": "code",
   "execution_count": 237,
   "metadata": {},
   "outputs": [
    {
     "name": "stdout",
     "output_type": "stream",
     "text": [
      "Model Score is 0.8973238140115849\n"
     ]
    }
   ],
   "source": [
    "from sklearn.metrics import r2_score\n",
    "print(r\"Model Score is {}\".format(r2_score(y_test,y_pred2)))"
   ]
  },
  {
   "cell_type": "markdown",
   "metadata": {},
   "source": [
    "#### Cross Validation"
   ]
  },
  {
   "cell_type": "code",
   "execution_count": 238,
   "metadata": {},
   "outputs": [],
   "source": [
    "from sklearn.model_selection import cross_val_score,KFold\n",
    "kfold = KFold(n_splits=10)\n",
    "cross_validation = cross_val_score(knn_reg, x, y, cv=kfold)"
   ]
  },
  {
   "cell_type": "code",
   "execution_count": 239,
   "metadata": {},
   "outputs": [
    {
     "name": "stdout",
     "output_type": "stream",
     "text": [
      "Cross Validation Score is 0.9105504363174189\n"
     ]
    }
   ],
   "source": [
    "print(\"Cross Validation Score is {}\".format(np.mean(cross_validation)))"
   ]
  },
  {
   "cell_type": "code",
   "execution_count": null,
   "metadata": {},
   "outputs": [],
   "source": []
  }
 ],
 "metadata": {
  "kernelspec": {
   "display_name": "Python 3",
   "language": "python",
   "name": "python3"
  },
  "language_info": {
   "codemirror_mode": {
    "name": "ipython",
    "version": 3
   },
   "file_extension": ".py",
   "mimetype": "text/x-python",
   "name": "python",
   "nbconvert_exporter": "python",
   "pygments_lexer": "ipython3",
   "version": "3.8.5"
  }
 },
 "nbformat": 4,
 "nbformat_minor": 4
}
